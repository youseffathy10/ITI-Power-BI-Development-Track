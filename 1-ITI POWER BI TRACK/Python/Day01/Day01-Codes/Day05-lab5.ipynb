{
 "cells": [
  {
   "cell_type": "markdown",
   "metadata": {},
   "source": [
    ". Write a Python program to create a person class. Include attributes like name, country and date of birth. Implement a method to determine the person's age.\n"
   ]
  },
  {
   "cell_type": "code",
   "execution_count": 3,
   "metadata": {},
   "outputs": [
    {
     "name": "stdout",
     "output_type": "stream",
     "text": [
      "name is joe\n",
      "name is Egypt\n",
      "name is 14 yrs\n"
     ]
    }
   ],
   "source": [
    "from datetime import datetime, date\n",
    "class Person:\n",
    "    def __init__(self,name,country,Bdate):\n",
    "        self.name=name\n",
    "        self.country=country\n",
    "        self.Bdate=datetime.strptime(Bdate,'%Y-%m-%d').date()\n",
    "        \n",
    "    def get_age(self):\n",
    "        today = date.today()\n",
    "        age = today.year - self.Bdate.year\n",
    "        return age\n",
    "\n",
    "x = Person(\"joe\",\"Egypt\",\"2010-05-29\")\n",
    "print(f\"name is {x.name}\")\n",
    "print(f\"name is {x.country}\")\n",
    "print(f\"name is {x.get_age()} yrs\")\n",
    "\n"
   ]
  },
  {
   "cell_type": "markdown",
   "metadata": {},
   "source": [
    " Write a Python program to create a class representing a shopping cart. Include methods for adding and removing items, and calculating the total price"
   ]
  },
  {
   "cell_type": "code",
   "execution_count": 26,
   "metadata": {},
   "outputs": [
    {
     "name": "stdout",
     "output_type": "stream",
     "text": [
      "the item called Apple and quantity 3 with 20 has been added\n",
      "the item called Banana and quantity 5 with 33 has been added\n",
      "the item called Watermelon and quantity 1 with 40 has been added\n",
      "the item Banana has been removed from the cart\n",
      "the price of Apple, Watermelon is 100 LE\n"
     ]
    }
   ],
   "source": [
    "class shopping_cart:\n",
    "    def __init__(self):\n",
    "        self.items =[]\n",
    "    \n",
    "    def addItems(self, name,price,quantity):\n",
    "        self.items.append({\n",
    "            \"name\": name,\n",
    "            \"quantity\": quantity,\n",
    "            \"price\":price\n",
    "        })\n",
    "        print(f\"the item called {name} and quantity {quantity} with {price} has been added\")\n",
    "    \n",
    "    def removeItems(self,name):\n",
    "        for item in self.items:\n",
    "            if item[\"name\"]==name:\n",
    "                self.items.remove(item)\n",
    "        print(f\"the item {name} has been removed from the cart\")\n",
    "\n",
    "    def calculatePrice(self):\n",
    "        total=0\n",
    "        list_of_items=[]\n",
    "        for item in self.items:\n",
    "            total += item['price']*item['quantity']\n",
    "            list_of_items.append(item['name'])\n",
    "        print(f\"the price of {\", \".join(list_of_items)} is {total} LE\")\n",
    "\n",
    "\n",
    "cart = shopping_cart()\n",
    "cart.addItems(\"Apple\", 20, 3)\n",
    "cart.addItems(\"Banana\", 33, 5)  \n",
    "cart.addItems(\"Watermelon\", 40, 1)  \n",
    "cart.removeItems(\"Banana\")\n",
    "cart.calculatePrice()\n",
    "     \n"
   ]
  }
 ],
 "metadata": {
  "kernelspec": {
   "display_name": "Python 3",
   "language": "python",
   "name": "python3"
  },
  "language_info": {
   "codemirror_mode": {
    "name": "ipython",
    "version": 3
   },
   "file_extension": ".py",
   "mimetype": "text/x-python",
   "name": "python",
   "nbconvert_exporter": "python",
   "pygments_lexer": "ipython3",
   "version": "3.12.2"
  }
 },
 "nbformat": 4,
 "nbformat_minor": 2
}
