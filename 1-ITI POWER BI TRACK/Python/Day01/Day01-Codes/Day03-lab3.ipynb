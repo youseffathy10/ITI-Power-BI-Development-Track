{
 "cells": [
  {
   "cell_type": "code",
   "execution_count": 24,
   "metadata": {},
   "outputs": [
    {
     "ename": "ValueError",
     "evalue": "the value you've entered is integer and it's ad",
     "output_type": "error",
     "traceback": [
      "\u001b[1;31m---------------------------------------------------------------------------\u001b[0m",
      "\u001b[1;31mValueError\u001b[0m                                Traceback (most recent call last)",
      "Cell \u001b[1;32mIn[24], line 8\u001b[0m\n\u001b[0;32m      5\u001b[0m value \u001b[38;5;241m=\u001b[39m \u001b[38;5;28minput\u001b[39m(\u001b[38;5;124m\"\u001b[39m\u001b[38;5;124menter an integer number:\u001b[39m\u001b[38;5;130;01m\\n\u001b[39;00m\u001b[38;5;124m\"\u001b[39m)\n\u001b[0;32m      7\u001b[0m \u001b[38;5;28;01mif\u001b[39;00m \u001b[38;5;129;01mnot\u001b[39;00m value\u001b[38;5;241m.\u001b[39misdigit():\n\u001b[1;32m----> 8\u001b[0m     \u001b[38;5;28;01mraise\u001b[39;00m \u001b[38;5;167;01mValueError\u001b[39;00m(\u001b[38;5;124mf\u001b[39m\u001b[38;5;124m\"\u001b[39m\u001b[38;5;124mthe value you\u001b[39m\u001b[38;5;124m'\u001b[39m\u001b[38;5;124mve entered is integer and it\u001b[39m\u001b[38;5;124m'\u001b[39m\u001b[38;5;124ms \u001b[39m\u001b[38;5;132;01m{\u001b[39;00mvalue\u001b[38;5;132;01m}\u001b[39;00m\u001b[38;5;124m\"\u001b[39m)\n\u001b[0;32m      9\u001b[0m \u001b[38;5;28;01melse\u001b[39;00m:\n\u001b[0;32m     10\u001b[0m     \u001b[38;5;28mprint\u001b[39m(\u001b[38;5;124m\"\u001b[39m\u001b[38;5;124mthe value you\u001b[39m\u001b[38;5;124m'\u001b[39m\u001b[38;5;124mve entered is integer\u001b[39m\u001b[38;5;124m\"\u001b[39m)\n",
      "\u001b[1;31mValueError\u001b[0m: the value you've entered is integer and it's ad"
     ]
    }
   ],
   "source": [
    "\"\"\"1) Write a Python program that \n",
    "prompts the user to input an integer and raises \n",
    "a ValueError exception if the input is not a valid\"\"\"\n",
    "\n",
    "value = input(\"enter an integer number:\\n\")\n",
    "\n",
    "if not value.isdigit():\n",
    "    raise ValueError(f\"the value you've entered is integer and it's {value}\")\n",
    "else:\n",
    "    print(\"the value you've entered is integer\")\n",
    "\n",
    "\n"
   ]
  },
  {
   "cell_type": "code",
   "execution_count": 61,
   "metadata": {},
   "outputs": [
    {
     "name": "stdout",
     "output_type": "stream",
     "text": [
      "the number is palindrome but not prime\n"
     ]
    }
   ],
   "source": [
    "\"\"\"2++)Write a program to check if the given number is a palindrome number.\n",
    "\"\"\"\n",
    "def palindromeNumb(num):\n",
    "    if num.isdigit():\n",
    "        if num[0::] == num[::-1]:\n",
    "            return True\n",
    "        else:\n",
    "            return False\n",
    "\n",
    "def primeNumber(num):\n",
    "    number =int(num)\n",
    "    if number <2:\n",
    "        return False\n",
    "    for i in range(2,number):\n",
    "        if number % i ==0:\n",
    "            return False\n",
    "        else:\n",
    "            return True\n",
    "    else:\n",
    "        return True\n",
    "\n",
    "\n",
    "num = input(\"enter a number: \\n\")\n",
    "is_palindrome = palindromeNumb(num)\n",
    "is_prime = primeNumber(num)\n",
    "if is_palindrome and not is_prime:\n",
    "    print(\"the number is palindrome but not prime\")\n",
    "elif not is_palindrome and is_prime:\n",
    "    print(\"the number is prime but not palindrome\")\n",
    "elif is_palindrome and is_prime:\n",
    "    print(\"the number is palindrome and prime\")\n",
    "else:\n",
    "    print(\"the number neither prime nor palindrome\")\n",
    "\n"
   ]
  },
  {
   "cell_type": "code",
   "execution_count": 55,
   "metadata": {},
   "outputs": [
    {
     "name": "stdout",
     "output_type": "stream",
     "text": [
      "True\n"
     ]
    }
   ],
   "source": [
    "def primeNumber(number):\n",
    "    if number <2:\n",
    "        return False\n",
    "    for i in range(2,number):\n",
    "        if number % i ==0:\n",
    "            return False\n",
    "        else:\n",
    "            return True\n",
    "    else:\n",
    "        return True\n",
    "print(primeNumber())"
   ]
  },
  {
   "cell_type": "code",
   "execution_count": null,
   "metadata": {},
   "outputs": [
    {
     "name": "stdout",
     "output_type": "stream",
     "text": [
      "the even list is  [2, 4, 6, 10, 12] \n",
      "the oddlist is  [1, 3, 5, 11, 13, 15]\n"
     ]
    }
   ],
   "source": [
    "\"\"\"3)Given a two list of numbers, write a program to create a new list such \n",
    "that the new list should contain odd numbers from the \n",
    "first list and even numbers from the second list.\"\"\"\n",
    "\n",
    "def evenOrodd():\n",
    "    list1=[1,2,3,4,5,6]\n",
    "    list2 = [10,11,12,13,15]\n",
    "    evenList=[]\n",
    "    oddList=[]\n",
    "    for item in list1:\n",
    "        if item%2==0:\n",
    "            evenList.append(item)\n",
    "        else:\n",
    "            oddList.append(item)\n",
    "    \n",
    "    for item in list2:\n",
    "        if item%2==0:\n",
    "            evenList.append(item)\n",
    "        else:\n",
    "            oddList.append(item)\n",
    "    print(\"the even list is \" ,evenList,\"\\nthe oddlist is \",oddList)\n",
    "\n",
    "evenOrodd()  \n",
    "\n"
   ]
  },
  {
   "cell_type": "code",
   "execution_count": null,
   "metadata": {},
   "outputs": [
    {
     "data": {
      "text/plain": [
       "8"
      ]
     },
     "execution_count": 16,
     "metadata": {},
     "output_type": "execute_result"
    }
   ],
   "source": [
    "\"\"\"\"4)Write a function called exponent(base, exp) that returns \n",
    "an int value of base raises to the power of exp.\"\"\"\n",
    "\n",
    "def exp(base,exp):\n",
    "   return base**exp\n",
    "\n",
    "exp(2,3)"
   ]
  }
 ],
 "metadata": {
  "kernelspec": {
   "display_name": "Python 3",
   "language": "python",
   "name": "python3"
  },
  "language_info": {
   "codemirror_mode": {
    "name": "ipython",
    "version": 3
   },
   "file_extension": ".py",
   "mimetype": "text/x-python",
   "name": "python",
   "nbconvert_exporter": "python",
   "pygments_lexer": "ipython3",
   "version": "3.12.2"
  }
 },
 "nbformat": 4,
 "nbformat_minor": 2
}
