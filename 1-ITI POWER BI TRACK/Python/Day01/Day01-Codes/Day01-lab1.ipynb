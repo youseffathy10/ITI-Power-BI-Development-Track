{
 "cells": [
  {
   "cell_type": "code",
   "execution_count": 15,
   "metadata": {},
   "outputs": [
    {
     "name": "stdout",
     "output_type": "stream",
     "text": [
      "the number of vowels 1\n"
     ]
    }
   ],
   "source": [
    "vowels =[\"a\",\"e\",\"i\",\"o\",\"u\"]\n",
    "word = input(\"word: \\n\")\n",
    "counter = 0\n",
    "for char in word:\n",
    "    if char in vowels:\n",
    "        counter+=1\n",
    "    \n",
    "print(f\"the number of vowels = {counter}\")\n"
   ]
  },
  {
   "cell_type": "code",
   "execution_count": 90,
   "metadata": {},
   "outputs": [
    {
     "name": "stdout",
     "output_type": "stream",
     "text": [
      "list ascendengly [1, 2, 3, 4, 5]\n",
      "list descendengly [5, 4, 3, 2, 1]\n"
     ]
    }
   ],
   "source": [
    "list1 =[]\n",
    "\n",
    "for i in range(5):\n",
    "    element = int(input(\"enter element \\n\"))\n",
    "    list1.append(element)\n",
    "list1.sort()   \n",
    "print(f\"list ascendengly {list1}\")  \n",
    "list1.sort(reverse=True)\n",
    "print(f\"list descendengly {list1}\")"
   ]
  },
  {
   "cell_type": "code",
   "execution_count": 20,
   "metadata": {},
   "outputs": [
    {
     "name": "stdout",
     "output_type": "stream",
     "text": [
      "list ascendengly [1, 2, 3, 4, 5]\n",
      "list descendengly [5, 4, 3, 2, 1]\n"
     ]
    }
   ],
   "source": [
    "list1 =[]\n",
    "\n",
    "for i in range(5):\n",
    "    element = int(input(\"enter element \\n\"))\n",
    "    list1.append(element)\n",
    "print(f\"list ascendengly {sorted(list1)}\")  \n",
    "print(f\"list descendengly {sorted(list1,reverse=True)}\")"
   ]
  },
  {
   "cell_type": "code",
   "execution_count": 31,
   "metadata": {},
   "outputs": [
    {
     "name": "stdout",
     "output_type": "stream",
     "text": [
      "2\n"
     ]
    }
   ],
   "source": [
    "sentence = input(\"enter the sentence: \\n\")\n",
    "print(f\"iti has been repeated for {sentence.count(\"iti\")} times\")\n",
    "\n",
    "#-----------------------------\n",
    "\n",
    "list = []\n",
    "count=0\n",
    "while input()!='/':\n",
    "    sentence = input(\"enter the sentence: \\n\")\n",
    "    list.append(sentence)\n",
    "\n",
    "for char in range(len(list)+1):\n",
    "    if \"iti\" in list:\n",
    "        count+=1\n",
    "print(count)"
   ]
  },
  {
   "cell_type": "code",
   "execution_count": 39,
   "metadata": {},
   "outputs": [
    {
     "name": "stdout",
     "output_type": "stream",
     "text": [
      "the word without vowels is  bc\n"
     ]
    }
   ],
   "source": [
    "vowels = \"AEIOUaeiou\"\n",
    "word = input(\"word: \\n\")\n",
    "word_without_vowels = \"\"\n",
    "\n",
    "counter = 0\n",
    "for char in word:\n",
    "    if char not in vowels:\n",
    "        word_without_vowels+=char\n",
    "\n",
    "        \n",
    "\n",
    "print(f\"the word without vowels is  {word_without_vowels}\")"
   ]
  },
  {
   "cell_type": "code",
   "execution_count": 47,
   "metadata": {},
   "outputs": [
    {
     "name": "stdout",
     "output_type": "stream",
     "text": [
      "0\n",
      "2\n",
      "3\n"
     ]
    }
   ],
   "source": [
    "string = input(\"word: \\n\")\n",
    "for index in range(len(string)):\n",
    "    if string[index] ==\"i\" or string[index] ==\"I\":\n",
    "        print(index)\n"
   ]
  },
  {
   "cell_type": "code",
   "execution_count": 94,
   "metadata": {},
   "outputs": [
    {
     "name": "stdout",
     "output_type": "stream",
     "text": [
      "[[3, 6, 9], [3, 6, 9], [3, 6, 9]]\n"
     ]
    }
   ],
   "source": [
    "list = []\n",
    "nestedList=[]\n",
    "prod=1\n",
    "n = int(input(\"enter number:\"))\n",
    "for i in range(1,n+1):\n",
    "    prod=i*n\n",
    "    nestedList.append(prod)\n",
    "    list.append(nestedList)\n",
    "    \n",
    "print(list)\n",
    "\n"
   ]
  },
  {
   "cell_type": "code",
   "execution_count": 52,
   "metadata": {},
   "outputs": [
    {
     "name": "stdout",
     "output_type": "stream",
     "text": [
      "['*']\n",
      "['*', '*']\n",
      "['*', '*', '*']\n",
      "['*', '*', '*', '*']\n"
     ]
    }
   ],
   "source": [
    "list = []\n",
    "for i in range(4):\n",
    "    list.append(\"*\")\n",
    "    print(list)\n",
    "\n",
    "\n"
   ]
  },
  {
   "cell_type": "code",
   "execution_count": 85,
   "metadata": {},
   "outputs": [
    {
     "name": "stdout",
     "output_type": "stream",
     "text": [
      "\n",
      "*\n",
      "**\n",
      "***\n"
     ]
    }
   ],
   "source": [
    "num = int(input(\"enter \"))\n",
    "for i in range(num+1):\n",
    "    star = \"*\"*i\n",
    "    print(star)\n",
    "\n"
   ]
  }
 ],
 "metadata": {
  "kernelspec": {
   "display_name": "Python 3",
   "language": "python",
   "name": "python3"
  },
  "language_info": {
   "codemirror_mode": {
    "name": "ipython",
    "version": 3
   },
   "file_extension": ".py",
   "mimetype": "text/x-python",
   "name": "python",
   "nbconvert_exporter": "python",
   "pygments_lexer": "ipython3",
   "version": "3.12.2"
  }
 },
 "nbformat": 4,
 "nbformat_minor": 2
}
