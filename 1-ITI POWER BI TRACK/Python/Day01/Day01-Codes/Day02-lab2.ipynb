{
 "cells": [
  {
   "cell_type": "code",
   "execution_count": 1,
   "metadata": {},
   "outputs": [
    {
     "name": "stdout",
     "output_type": "stream",
     "text": [
      "[3, 4, 5, 6, 7, 8, 9, 10, 11, 12, 13]\n"
     ]
    }
   ],
   "source": [
    "def array(length, start):\n",
    "    list=[]\n",
    "    count = 0\n",
    "    while(length):\n",
    "        list.append(start)\n",
    "        start+=1\n",
    "        count+=1\n",
    "        if length ==count:\n",
    "            break\n",
    "    print(list)\n",
    "    \n",
    "array(11,3)\n",
    "    "
   ]
  },
  {
   "cell_type": "code",
   "execution_count": 5,
   "metadata": {},
   "outputs": [
    {
     "name": "stdout",
     "output_type": "stream",
     "text": [
      "[3, 4, 5, 6, 7, 8, 9]\n"
     ]
    }
   ],
   "source": [
    "\"\"\"Write a function that accepts two arguments (length, start) to\n",
    "generate an array of a specific length filled with integer numbers\n",
    "increased by one from start.\"\"\"\n",
    "\n",
    "def array(length,start):\n",
    "    list = []\n",
    "    for i in range(start,length):\n",
    "        list.append(i)\n",
    "    print(list)\n",
    "\n",
    "\n",
    "array(10,3)\n",
    "\n",
    "# not completed"
   ]
  },
  {
   "cell_type": "code",
   "execution_count": 10,
   "metadata": {},
   "outputs": [
    {
     "name": "stdout",
     "output_type": "stream",
     "text": [
      "Buzz\n"
     ]
    }
   ],
   "source": [
    "\"\"\"write a function that takes a number as an argument and if the\n",
    "    er divisible by 3 return \"Fizz\" and if it is divisible by 5 return\n",
    "\"buzz\" and if is is divisible by both return \" FizzBuzz\"\"\"\n",
    "\n",
    "def divisible(num):\n",
    "    if num%3==0 and num % 5 ==0:\n",
    "        print(\"FizzBuzz\")\n",
    "    elif num%3 ==0:\n",
    "        print(\"Fizz\")\n",
    "    elif num%5==0:\n",
    "        print(\"Buzz\")\n",
    "    else:\n",
    "        print(num)\n",
    "        \n",
    "num = int(input(\"num: \"))\n",
    "divisible(num)\n",
    "\n"
   ]
  },
  {
   "cell_type": "code",
   "execution_count": 17,
   "metadata": {},
   "outputs": [
    {
     "name": "stdout",
     "output_type": "stream",
     "text": [
      "demha\n"
     ]
    }
   ],
   "source": [
    "\"\"\"Write a function which has an input of a string from user then it\n",
    "will return the same string reversed.\"\"\"\n",
    "def reverseString(word):\n",
    "    return word[::-1]\n",
    "\n",
    "print(reverseString(\"ahmed\"))"
   ]
  },
  {
   "cell_type": "code",
   "execution_count": 3,
   "metadata": {},
   "outputs": [
    {
     "name": "stdout",
     "output_type": "stream",
     "text": [
      "you have entered invalid name\n",
      "your name is mo and your email is @.com\n"
     ]
    }
   ],
   "source": [
    "\"\"\"\n",
    "Ask the user for his name then confirm that he has entered his\n",
    "name(not an empty string/integers). then proceed to ask him for\n",
    "his email and print all this data (Bonus) check if it is a valid email\n",
    "or not\n",
    "\n",
    "take name from user \n",
    "check if the name is invalid \n",
    "take email\n",
    "check if the name is valid (not a number or an empty space)\n",
    "check wether the email is valid or not \n",
    "if it's valid return user info (name,email)\n",
    "if it's not let the user enter the email again correctly\n",
    "then return the info\n",
    "\"\"\"\n",
    "def userInfo(name):\n",
    "    while(True):\n",
    "        if  name.isdigit() or name.strip() ==\"\":\n",
    "            print(\"you have entered invalid name\")\n",
    "            name = input(\"enter valid name\")\n",
    "        else:\n",
    "            break\n",
    "    while True:\n",
    "        email = input(\"enter your email: \\n\")\n",
    "        if  \"@\" in email and  \".\" in email:\n",
    "            break\n",
    "        else:    \n",
    "            print(\"please enter valid email Ex: xxx@gmail.com\")\n",
    "                \n",
    "    print(f\"your name is {name} and your email is {email}\")\n",
    "\n",
    "name = input(\"name\")\n",
    "userInfo(name)\n"
   ]
  },
  {
   "cell_type": "code",
   "execution_count": 3,
   "metadata": {},
   "outputs": [
    {
     "data": {
      "text/plain": [
       "'abdu'"
      ]
     },
     "execution_count": 3,
     "metadata": {},
     "output_type": "execute_result"
    }
   ],
   "source": [
    "\"\"\"\n",
    "Write a function that takes a string and prints the\n",
    "longest alphabetical ordered substring occurred For example, if\n",
    "the string is ' abdulrahman ' then the output Longest substring in\n",
    "alphabetical order is: abdu\n",
    "\n",
    "takes a string from the user \n",
    "create an empty string\n",
    "loop on the string check if the char of i is ordered before the char  of i+1 \n",
    "if yes put it in a string\n",
    "count the string length\n",
    "\"\"\"\n",
    "def longestAlphaOrdered(string):\n",
    "    result = string[0]\n",
    "    maxchar = string[0] \n",
    "    for char in range(1,len(string)):     \n",
    "        if string[char] >= maxchar:       \n",
    "            result+=string[char]                 \n",
    "            maxchar = string[char]\n",
    "    return result\n",
    "        \n",
    "longestAlphaOrdered(\"abdulrahman\")\n",
    "\n",
    "\n"
   ]
  },
  {
   "cell_type": "code",
   "execution_count": 5,
   "metadata": {},
   "outputs": [
    {
     "name": "stdout",
     "output_type": "stream",
     "text": [
      "sum = 3 \n",
      " count= 3 \n",
      " average= 1.0\n"
     ]
    }
   ],
   "source": [
    "\"\"\"Write a program which repeatedly reads numbers until the user\n",
    "enters “done”.\n",
    "○\n",
    "Once “done” is entered, print out the total, count, and\n",
    "average of the numbers.\n",
    "○\n",
    "If the user enters anything other than a number, detect their\n",
    "mistake, print an error message and skip to the next number.\n",
    "\n",
    "-let the user enter numbers \n",
    "-while the user didn't enter \"done\"\n",
    "-calculate total, count, average\n",
    "-if the user doesn't enter a number skip \n",
    "\"\"\"\n",
    "sum=0\n",
    "count=0\n",
    "while(True):\n",
    "    num = input(\"enter the num or done to finish : \\n\")\n",
    "    if num==\"done\" or num ==\"Done\":\n",
    "        if count > 0:\n",
    "            print(f\"sum = {sum} \\n count= {count} \\n average= {average}\")\n",
    "        else:\n",
    "            print(\"no numbers have been entered\")    \n",
    "        break\n",
    "    elif num.isdigit():\n",
    "        sum+=int(num)\n",
    "        count+=1\n",
    "        average = sum/count            \n",
    "    else:\n",
    "        continue\n",
    "\n"
   ]
  }
 ],
 "metadata": {
  "kernelspec": {
   "display_name": "Python 3",
   "language": "python",
   "name": "python3"
  },
  "language_info": {
   "codemirror_mode": {
    "name": "ipython",
    "version": 3
   },
   "file_extension": ".py",
   "mimetype": "text/x-python",
   "name": "python",
   "nbconvert_exporter": "python",
   "pygments_lexer": "ipython3",
   "version": "3.12.2"
  }
 },
 "nbformat": 4,
 "nbformat_minor": 2
}
