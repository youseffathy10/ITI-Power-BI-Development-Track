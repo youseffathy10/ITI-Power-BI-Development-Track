{
 "cells": [
  {
   "cell_type": "code",
   "execution_count": 3,
   "metadata": {},
   "outputs": [
    {
     "name": "stdout",
     "output_type": "stream",
     "text": [
      "name**is**James\n"
     ]
    }
   ],
   "source": [
    "ListName = [\"name\",\"is\",\"James\"]\n",
    "result = \"**\".join(ListName)\n",
    "print(result)\n",
    "\n"
   ]
  },
  {
   "cell_type": "code",
   "execution_count": 1,
   "metadata": {},
   "outputs": [
    {
     "name": "stdout",
     "output_type": "stream",
     "text": [
      "10 20 30 40\n"
     ]
    }
   ],
   "source": [
    "tuple1 = (10,20,30,40)\n",
    "a,b,c,d = tuple1\n",
    "print(a,b,c,d)\n"
   ]
  },
  {
   "cell_type": "code",
   "execution_count": 20,
   "metadata": {},
   "outputs": [
    {
     "name": "stdout",
     "output_type": "stream",
     "text": [
      "the number is not float\n",
      "['1', '2', '3', '4', '5']\n"
     ]
    }
   ],
   "source": [
    "list = []\n",
    "while len(list)<5:\n",
    "    value=input(\"enter a float numbers \\n\")\n",
    "    try:\n",
    "            floatNum = float(value)\n",
    "            list.append(value)\n",
    "    except:\n",
    "        print(\"the number is not float\")\n",
    "        continue\n",
    "print(list)"
   ]
  },
  {
   "cell_type": "code",
   "execution_count": 15,
   "metadata": {},
   "outputs": [
    {
     "name": "stdout",
     "output_type": "stream",
     "text": [
      "[['a', 'b'], ['c', 'd']]\n",
      "['a', 'b']\n",
      "['c', 'd']\n"
     ]
    }
   ],
   "source": [
    "\"\"\"\n",
    "Write a Python program to create and display all combinations of letters, selecting each letter from a different key in a dictionary.\n",
    "Sample data : {'1':['a','b'], '2':['c','d']}\n",
    "Expected Output:\n",
    "ac\n",
    "ad\n",
    "bc\n",
    "bd\n",
    "\n",
    "\"\"\"\n",
    "dictionary = {'1':['a','b'],\n",
    "                '2':['c','d']}\n",
    "dict_val = list(dictionary.values())\n",
    "print(dict_val)\n",
    "for listitems in range(len(dict_val)):\n",
    "    print(dict_val[listitems])\n"
   ]
  },
  {
   "cell_type": "code",
   "execution_count": 18,
   "metadata": {},
   "outputs": [
    {
     "name": "stdout",
     "output_type": "stream",
     "text": [
      "ac\n",
      "ad\n",
      "bc\n",
      "bd\n"
     ]
    }
   ],
   "source": [
    "dictionary = {'1':['a','b'],\n",
    "                '2':['c','d']}\n",
    "for i in dictionary['1']:\n",
    "    for j in dictionary['2']:\n",
    "        print(i+j)"
   ]
  },
  {
   "cell_type": "code",
   "execution_count": 16,
   "metadata": {},
   "outputs": [
    {
     "name": "stdout",
     "output_type": "stream",
     "text": [
      "{'w': 1, '3': 1, 'r': 2, 'e': 2, 's': 1, 'o': 1, 'u': 1, 'c': 1}\n"
     ]
    }
   ],
   "source": [
    "\"\"\"\n",
    "Write a Python program to create a dictionary from a string.\n",
    "Note: Track the count of the letters from the string.\n",
    "Sample string : 'w3resource'\n",
    "Expected output: {'w': 1, '3': 1, 'r': 2, 'e': 2, 's': 1, 'o': 1, 'u': 1, 'c': 1}\n",
    "\"\"\"\n",
    "string1 = 'w3resource'\n",
    "dict1 ={}\n",
    "for i in string1:\n",
    "    dict1[i] = string1.count(i)\n",
    "print(dict1)"
   ]
  },
  {
   "cell_type": "code",
   "execution_count": 2,
   "metadata": {},
   "outputs": [
    {
     "name": "stdout",
     "output_type": "stream",
     "text": [
      "(99, 88) \n",
      " (11, 22)\n"
     ]
    }
   ],
   "source": [
    "\"\"\"\n",
    "Swap two tuples in Python\n",
    "tuple1 = (11, 22)\n",
    "tuple2 = (99, 88)\n",
    "\n",
    "\"\"\"\n",
    "tuple1 =(11,22)  #empty\n",
    "tuple2=(99,88)\n",
    "# tuple3 = tuple1\n",
    "# tuple1 =tuple2\n",
    "# tuple2=tuple3\n",
    "tuple1,tuple2=tuple2,tuple1\n",
    "\n",
    "print(tuple1,\"\\n\",tuple2)\n"
   ]
  },
  {
   "cell_type": "code",
   "execution_count": 16,
   "metadata": {},
   "outputs": [
    {
     "name": "stdout",
     "output_type": "stream",
     "text": [
      "(11, [222, 33], 44, 55)\n"
     ]
    }
   ],
   "source": [
    "\"\"\"\n",
    "Given is a nested tuple. Write a program to modify the first item (22) of a list inside a following tuple to 222\n",
    "tuple1 = (11, [22, 33], 44, 55)\n",
    "\n",
    "\"\"\"\n",
    "tuple1 = (11, [22, 33], 44, 55)\n",
    "tuple1[1][0]=222\n",
    "print(tuple1)\n"
   ]
  },
  {
   "cell_type": "code",
   "execution_count": 18,
   "metadata": {},
   "outputs": [
    {
     "name": "stdout",
     "output_type": "stream",
     "text": [
      "[Errno 2] No such file or directory: 'file1.txt'\n"
     ]
    }
   ],
   "source": [
    "\"\"\"\n",
    "Write a Python program that opens a file and handles \n",
    "a FileNotFoundError exception if the file does not exist\n",
    "\n",
    "\"\"\"\n",
    "try:\n",
    "    f=open(\"file1.txt\",\"r\")\n",
    "    f.read()\n",
    "except FileNotFoundError as err:\n",
    "    print(err)\n",
    "f.close()"
   ]
  },
  {
   "cell_type": "code",
   "execution_count": 28,
   "metadata": {},
   "outputs": [
    {
     "name": "stdout",
     "output_type": "stream",
     "text": [
      "4\n"
     ]
    }
   ],
   "source": [
    "\"\"\"\n",
    " Write a Python program to count the number of lines in a text file.\n",
    "\"\"\"\n",
    "file = open(\"file.txt\",\"r\")\n",
    "count =0\n",
    "for line in file:\n",
    "    count+=1\n",
    "print(count)\n",
    "file.close()\n"
   ]
  }
 ],
 "metadata": {
  "kernelspec": {
   "display_name": "Python 3",
   "language": "python",
   "name": "python3"
  },
  "language_info": {
   "codemirror_mode": {
    "name": "ipython",
    "version": 3
   },
   "file_extension": ".py",
   "mimetype": "text/x-python",
   "name": "python",
   "nbconvert_exporter": "python",
   "pygments_lexer": "ipython3",
   "version": "3.12.2"
  }
 },
 "nbformat": 4,
 "nbformat_minor": 2
}
