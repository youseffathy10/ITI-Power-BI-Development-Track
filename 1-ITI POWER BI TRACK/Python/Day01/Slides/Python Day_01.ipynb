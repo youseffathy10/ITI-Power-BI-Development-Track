{
 "cells": [
  {
   "cell_type": "markdown",
   "id": "854c81b9-69a5-4674-a1dd-eb5b7113bc66",
   "metadata": {},
   "source": [
    "# Virtual Environment:"
   ]
  },
  {
   "cell_type": "code",
   "execution_count": null,
   "id": "6f802fd9-c056-4b0d-be1a-b50171a1a4c2",
   "metadata": {},
   "outputs": [],
   "source": [
    "\"\"\"\n",
    "1) Ensure Python is Installed\n",
    "-- python --version\n",
    "\n",
    "2) Create a Virtual Environment\n",
    "-- python -m venv myenv\n",
    "\n",
    "3) Activate the Virtual Environment\n",
    "--myenv\\Scripts\\activate\n",
    "--pip list\n",
    "\n",
    "4) Install Dependencies\n",
    "-- pip install <package_name>\n",
    "--pip show <package_name>\n",
    "\n",
    "5) Deactivate the Virtual Environment\n",
    "--deactivate\n",
    "\n",
    "\"\"\""
   ]
  },
  {
   "cell_type": "code",
   "execution_count": 1,
   "id": "1a976e58",
   "metadata": {},
   "outputs": [
    {
     "name": "stdout",
     "output_type": "stream",
     "text": [
      "Hello Python interpreter!\n"
     ]
    }
   ],
   "source": [
    "print(\"Hello Python interpreter!\")"
   ]
  },
  {
   "cell_type": "code",
   "execution_count": null,
   "id": "4574038b",
   "metadata": {},
   "outputs": [],
   "source": [
    "value = input(\"enter the value here you want to check: \\n\")\n",
    "if value[0:] == value[::-1]:\n",
    "    print(\"palindrome\")\n",
    "else:\n",
    "    print(\"not palindrome\")\n"
   ]
  },
  {
   "cell_type": "code",
   "execution_count": null,
   "id": "25485ac3-17c3-4dbe-9615-84af0d34a288",
   "metadata": {},
   "outputs": [],
   "source": [
    "#comments:\n",
    "\n",
    "#print(\"Hello Python interpreter!\")\n",
    "\n",
    "\"\"\"\n",
    "print(\"Hello Python interpreter!\")\n",
    "print(\"Hello Python interpreter!\")\n",
    "\"\"\""
   ]
  },
  {
   "cell_type": "code",
   "execution_count": 2,
   "id": "04b36037",
   "metadata": {},
   "outputs": [],
   "source": [
    "#python --version"
   ]
  },
  {
   "cell_type": "code",
   "execution_count": null,
   "id": "3fc27a58",
   "metadata": {},
   "outputs": [],
   "source": [
    "\"\"\"\n",
    "\n",
    "Ptyhon2\n",
    "-------\n",
    "-->print 'Hello Python' ----->output : Hello Python\n",
    "-->print 6/4 ----->output : 1 --> integer/integer\n",
    "\n",
    "\n",
    "Python3\n",
    "-------\n",
    "-->print 'Hello Python' ----->output : Error    print ('Hello Python')\n",
    "-->print (6/4) ----->output : 1.5\n",
    "\n",
    "\"\"\""
   ]
  },
  {
   "cell_type": "code",
   "execution_count": 74,
   "id": "082cf239-44e2-4143-9095-09412fcb496f",
   "metadata": {},
   "outputs": [
    {
     "name": "stdout",
     "output_type": "stream",
     "text": [
      "The Zen of Python, by Tim Peters\n",
      "\n",
      "Beautiful is better than ugly.\n",
      "Explicit is better than implicit.\n",
      "Simple is better than complex.\n",
      "Complex is better than complicated.\n",
      "Flat is better than nested.\n",
      "Sparse is better than dense.\n",
      "Readability counts.\n",
      "Special cases aren't special enough to break the rules.\n",
      "Although practicality beats purity.\n",
      "Errors should never pass silently.\n",
      "Unless explicitly silenced.\n",
      "In the face of ambiguity, refuse the temptation to guess.\n",
      "There should be one-- and preferably only one --obvious way to do it.\n",
      "Although that way may not be obvious at first unless you're Dutch.\n",
      "Now is better than never.\n",
      "Although never is often better than *right* now.\n",
      "If the implementation is hard to explain, it's a bad idea.\n",
      "If the implementation is easy to explain, it may be a good idea.\n",
      "Namespaces are one honking great idea -- let's do more of those!\n"
     ]
    }
   ],
   "source": [
    "import this"
   ]
  },
  {
   "cell_type": "markdown",
   "id": "0d6070df-0fdb-4f66-b3c8-976432ace8f4",
   "metadata": {},
   "source": [
    "# 1) Variables"
   ]
  },
  {
   "cell_type": "code",
   "execution_count": 3,
   "id": "9e0701be-247c-453f-92dc-1d40917023b8",
   "metadata": {},
   "outputs": [
    {
     "data": {
      "text/plain": [
       "1"
      ]
     },
     "execution_count": 3,
     "metadata": {},
     "output_type": "execute_result"
    }
   ],
   "source": [
    "1"
   ]
  },
  {
   "cell_type": "code",
   "execution_count": 4,
   "id": "bf87beb0-0bc7-4bf4-b9fd-46a171378c76",
   "metadata": {},
   "outputs": [
    {
     "data": {
      "text/plain": [
       "5"
      ]
     },
     "execution_count": 4,
     "metadata": {},
     "output_type": "execute_result"
    }
   ],
   "source": [
    "2+3"
   ]
  },
  {
   "cell_type": "code",
   "execution_count": 5,
   "id": "c24d6606-9255-4a15-8668-eddaa924751a",
   "metadata": {},
   "outputs": [
    {
     "data": {
      "text/plain": [
       "3"
      ]
     },
     "execution_count": 5,
     "metadata": {},
     "output_type": "execute_result"
    }
   ],
   "source": [
    "6+3\n",
    "1+2"
   ]
  },
  {
   "cell_type": "code",
   "execution_count": 2,
   "id": "02b552c8-7fcb-44b3-820d-a109c1600b33",
   "metadata": {},
   "outputs": [
    {
     "data": {
      "text/plain": [
       "'Hello Python'"
      ]
     },
     "execution_count": 2,
     "metadata": {},
     "output_type": "execute_result"
    }
   ],
   "source": [
    "'Hello Python'"
   ]
  },
  {
   "cell_type": "markdown",
   "id": "b71d256b-f733-4297-81ab-6f58321c7d8c",
   "metadata": {},
   "source": [
    "## Data types & Conversion"
   ]
  },
  {
   "cell_type": "code",
   "execution_count": 1,
   "id": "61952a77-6a79-43c7-84fa-ec0788898cd1",
   "metadata": {},
   "outputs": [
    {
     "name": "stdout",
     "output_type": "stream",
     "text": [
      "Integer to String: 123\n",
      "String to Integer: 456\n"
     ]
    }
   ],
   "source": [
    "# Convert integer to string\n",
    "num_int = 123\n",
    "num_str = str(num_int)\n",
    "print(\"Integer to String:\", num_str)\n",
    "\n",
    "# Convert string to integer\n",
    "str_num = \"456\"\n",
    "str_int = int(str_num)\n",
    "print(\"String to Integer:\", str_int)"
   ]
  },
  {
   "cell_type": "code",
   "execution_count": 2,
   "id": "e240dd71-d1c4-4cda-a68a-223d20f82f60",
   "metadata": {},
   "outputs": [
    {
     "name": "stdout",
     "output_type": "stream",
     "text": [
      "Float to Integer: 3\n",
      "Integer to Float: 100.0\n"
     ]
    }
   ],
   "source": [
    "# Convert float to integer\n",
    "float_num = 3.14\n",
    "float_int = int(float_num)\n",
    "print(\"Float to Integer:\", float_int)\n",
    "\n",
    "# Convert integer to float\n",
    "int_float = 100\n",
    "int_float = float(int_float)\n",
    "print(\"Integer to Float:\", int_float)\n"
   ]
  },
  {
   "cell_type": "code",
   "execution_count": 3,
   "id": "6e58f47b-bfeb-44e1-911f-101986034f80",
   "metadata": {},
   "outputs": [
    {
     "name": "stdout",
     "output_type": "stream",
     "text": [
      "String to Float: 2.718\n",
      "String to Complex: (3+4j)\n",
      "Complex to String: (2+5j)\n"
     ]
    }
   ],
   "source": [
    "# Convert string to float\n",
    "str_float = \"2.718\"\n",
    "str_float = float(str_float)\n",
    "print(\"String to Float:\", str_float)\n",
    "\n",
    "# Convert string to complex number\n",
    "complex_str = \"3+4j\"\n",
    "complex_num = complex(complex_str)\n",
    "print(\"String to Complex:\", complex_num)\n",
    "\n",
    "# Convert complex number to string\n",
    "complex_num = 2 + 5j\n",
    "complex_str = str(complex_num)\n",
    "print(\"Complex to String:\", complex_str)\n"
   ]
  },
  {
   "cell_type": "code",
   "execution_count": 4,
   "id": "a7d049d9-b7f7-4fc8-b183-4c3a3682cf10",
   "metadata": {},
   "outputs": [
    {
     "name": "stdout",
     "output_type": "stream",
     "text": [
      "Real Part of c: 3.0\n",
      "Imaginary Part of c: 4.0\n",
      "Binary representation of 50: 0b110010\n"
     ]
    }
   ],
   "source": [
    "c = 3 + 4j\n",
    "\n",
    "# Get the real part of the complex number\n",
    "real_part = c.real\n",
    "print(\"Real Part of c:\", real_part)\n",
    "\n",
    "# Get the imaginary part of the complex number\n",
    "imag_part = c.imag\n",
    "print(\"Imaginary Part of c:\", imag_part)\n",
    "\n",
    "# Convert an integer to binary representation\n",
    "binary_num = bin(50)\n",
    "print(\"Binary representation of 50:\", binary_num)\n"
   ]
  },
  {
   "cell_type": "markdown",
   "id": "1b3f4671-c295-4737-b51e-aba5af2cac09",
   "metadata": {},
   "source": [
    "### 1.1) Python syntax"
   ]
  },
  {
   "cell_type": "code",
   "execution_count": null,
   "id": "09f98566-590e-4cf2-b7cb-57c6b6b4afc8",
   "metadata": {},
   "outputs": [],
   "source": [
    "\"\"\"\n",
    "1) They cannot start with a number.\n",
    "2) They can contain letters (both uppercase and lowercase), numbers, and underscores (_).\n",
    "3) They cannot contain spaces or special characters (such as *, &, $, etc.) except for underscores.\n",
    "4) Variable names are case-sensitive.\n",
    "5) more clear like 'First_Name'.\n",
    "\n",
    "\"\"\""
   ]
  },
  {
   "cell_type": "code",
   "execution_count": 6,
   "id": "0a0858b6-dce1-45af-8f0f-38bead45ed8d",
   "metadata": {},
   "outputs": [
    {
     "name": "stdout",
     "output_type": "stream",
     "text": [
      "Name: Aya\n",
      "<class 'str'>\n",
      "_____________________________\n",
      "Age: 30\n",
      "<class 'int'>\n",
      "_____________________________\n",
      "Is Student: False\n",
      "<class 'bool'>\n",
      "_____________________________\n",
      "Height (cm): 175.5\n",
      "<class 'float'>\n"
     ]
    }
   ],
   "source": [
    "name = \"Aya\"\n",
    "age = 30\n",
    "is_student = False\n",
    "height_cm = 175.5\n",
    "\n",
    "print(\"Name:\", name)\n",
    "print(type(name))\n",
    "print('_____________________________')\n",
    "print(\"Age:\", age)\n",
    "print(type(age))\n",
    "print('_____________________________')\n",
    "print(\"Is Student:\", is_student)\n",
    "print(type(is_student))\n",
    "print('_____________________________')\n",
    "print(\"Height (cm):\", height_cm)\n",
    "print(type(height_cm))"
   ]
  },
  {
   "cell_type": "code",
   "execution_count": 7,
   "id": "2e05774f-3c2b-4174-ad95-81b541fea1e0",
   "metadata": {},
   "outputs": [
    {
     "name": "stdout",
     "output_type": "stream",
     "text": [
      "Name: Aya\n",
      "Age: 14\n",
      "Is Student: True\n"
     ]
    }
   ],
   "source": [
    "# Assigning values to multiple variables in a single line\n",
    "name, age, is_student = \"Aya\", 14, True\n",
    "\n",
    "print(\"Name:\", name)\n",
    "print(\"Age:\", age)\n",
    "print(\"Is Student:\", is_student)"
   ]
  },
  {
   "cell_type": "code",
   "execution_count": 19,
   "id": "0aac5dc5-0f75-4e2f-bf4c-fc1c202db4cd",
   "metadata": {},
   "outputs": [],
   "source": [
    "#Data Type---------->****Presentation"
   ]
  },
  {
   "cell_type": "markdown",
   "id": "0efb07cf-170d-4f67-925b-de225232b3ff",
   "metadata": {},
   "source": [
    "## 1.2) Numbers"
   ]
  },
  {
   "cell_type": "markdown",
   "id": "201a27a5-bd69-4cea-963c-0820648a993c",
   "metadata": {},
   "source": [
    "### 1.2.1) Arithmetic operators"
   ]
  },
  {
   "cell_type": "code",
   "execution_count": 54,
   "id": "edac3e32-0772-4e68-aded-c8c46ee5b1e7",
   "metadata": {},
   "outputs": [
    {
     "name": "stdout",
     "output_type": "stream",
     "text": [
      "Addition: 15\n",
      "Subtraction: 12\n",
      "Multiplication: 24\n"
     ]
    }
   ],
   "source": [
    "# Addition\n",
    "result_add = 10 + 5\n",
    "print(\"Addition:\", result_add)\n",
    "\n",
    "# Subtraction\n",
    "result_sub = 20 - 8\n",
    "print(\"Subtraction:\", result_sub)\n",
    "\n",
    "# Multiplication\n",
    "result_mul = 6 * 4\n",
    "print(\"Multiplication:\", result_mul)"
   ]
  },
  {
   "cell_type": "code",
   "execution_count": 22,
   "id": "81df3284-980d-47ad-9028-787b0b395159",
   "metadata": {},
   "outputs": [
    {
     "name": "stdout",
     "output_type": "stream",
     "text": [
      "Exponentiation: 8\n",
      "Modulus: 2\n"
     ]
    }
   ],
   "source": [
    "# Exponentiation\n",
    "result_exp = 2 ** 3\n",
    "print(\"Exponentiation:\", result_exp)\n",
    "\n",
    "# Modulus\n",
    "result_mod = 17 % 3\n",
    "print(\"Modulus:\", result_mod)"
   ]
  },
  {
   "cell_type": "code",
   "execution_count": 25,
   "id": "4c0ea996-5f62-4f09-bb3a-4d6750145ba7",
   "metadata": {},
   "outputs": [
    {
     "name": "stdout",
     "output_type": "stream",
     "text": [
      "Division: 5.0\n",
      "Floor Division: 4\n"
     ]
    }
   ],
   "source": [
    "# Division\n",
    "result_div = 25 / 5\n",
    "print(\"Division:\", result_div)\n",
    "\n",
    "# Floor Division\n",
    "result_floor_div = 30 // 7\n",
    "print(\"Floor Division:\", result_floor_div)"
   ]
  },
  {
   "cell_type": "code",
   "execution_count": 26,
   "id": "8845207c-d86e-4a94-9904-dc2f57e7a8b0",
   "metadata": {},
   "outputs": [],
   "source": [
    "# comparison Division and Floor Division"
   ]
  },
  {
   "cell_type": "code",
   "execution_count": 27,
   "id": "5df6f7d4-93a8-4733-be9d-db155eaf55bb",
   "metadata": {},
   "outputs": [
    {
     "data": {
      "text/plain": [
       "2.5"
      ]
     },
     "execution_count": 27,
     "metadata": {},
     "output_type": "execute_result"
    }
   ],
   "source": [
    "5/2"
   ]
  },
  {
   "cell_type": "code",
   "execution_count": 28,
   "id": "12b272b8-a280-4029-93cc-9807844c9312",
   "metadata": {},
   "outputs": [
    {
     "data": {
      "text/plain": [
       "2"
      ]
     },
     "execution_count": 28,
     "metadata": {},
     "output_type": "execute_result"
    }
   ],
   "source": [
    "#3 : 2.5 : 2\n",
    "5//2 "
   ]
  },
  {
   "cell_type": "code",
   "execution_count": 29,
   "id": "77c61ed4-554b-4420-8fa5-b206be426020",
   "metadata": {},
   "outputs": [
    {
     "data": {
      "text/plain": [
       "-2.5"
      ]
     },
     "execution_count": 29,
     "metadata": {},
     "output_type": "execute_result"
    }
   ],
   "source": [
    "-5/2"
   ]
  },
  {
   "cell_type": "code",
   "execution_count": 31,
   "id": "9ccc4029-8c71-420b-a66a-6b2ac3eacde8",
   "metadata": {},
   "outputs": [
    {
     "data": {
      "text/plain": [
       "-3"
      ]
     },
     "execution_count": 31,
     "metadata": {},
     "output_type": "execute_result"
    }
   ],
   "source": [
    "# -3 : -2.5 : 2\n",
    "-5//2    "
   ]
  },
  {
   "cell_type": "code",
   "execution_count": 33,
   "id": "2f4cef29-04f2-4dc6-ac19-b67f595711ab",
   "metadata": {},
   "outputs": [
    {
     "name": "stdout",
     "output_type": "stream",
     "text": [
      "Result without grouping: 20\n",
      "Result with grouping: 30\n",
      "Mixed expression result: 15\n"
     ]
    }
   ],
   "source": [
    "# Without grouping\n",
    "result_without_grouping = 10 + 5 * 2\n",
    "print(\"Result without grouping:\", result_without_grouping)  # Output: 20 (5 * 2 = 10, then add 10 to 10)\n",
    "\n",
    "# With grouping (parentheses)\n",
    "result_with_grouping = (10 + 5) * 2\n",
    "print(\"Result with grouping:\", result_with_grouping)  # Output: 30 ((10 + 5) = 15, then multiply 15 by 2)\n",
    "\n",
    "# Mixed grouping and operators\n",
    "mixed_expression = (10 + 5) * (2 - 1)\n",
    "print(\"Mixed expression result:\", mixed_expression)  # Output: 15 ((10 + 5) = 15, (2 - 1) = 1, then multiply 15 by 1)\n"
   ]
  },
  {
   "cell_type": "markdown",
   "id": "8358a817-3bfd-4425-96fe-2c73e5acad4a",
   "metadata": {},
   "source": [
    "## Math Library"
   ]
  },
  {
   "cell_type": "code",
   "execution_count": 6,
   "id": "19f9d6b6-be0b-4713-9b4c-ce6dbc9ea4c3",
   "metadata": {},
   "outputs": [],
   "source": [
    "import math as m"
   ]
  },
  {
   "cell_type": "code",
   "execution_count": 7,
   "id": "8e3a799a-cf58-4b81-957b-c46fca724941",
   "metadata": {},
   "outputs": [
    {
     "name": "stdout",
     "output_type": "stream",
     "text": [
      "Factorial of 5 is 120\n",
      "Exponential of 5 is 148.4131591025766\n",
      "Natural logarithm of 5 is 1.6094379124341003\n"
     ]
    }
   ],
   "source": [
    "# Factorial\n",
    "x = 5\n",
    "factorial_result = m.factorial(x)\n",
    "print(\"Factorial of\", x, \"is\", factorial_result)\n",
    "\n",
    "# Exponential\n",
    "exp_result = m.exp(x)\n",
    "print(\"Exponential of\", x, \"is\", exp_result)\n",
    "\n",
    "# Natural logarithm \n",
    "ln_result = m.log(x)\n",
    "print(\"Natural logarithm of\", x, \"is\", ln_result)"
   ]
  },
  {
   "cell_type": "code",
   "execution_count": 10,
   "id": "5a66ac38-0fb1-4122-a4d8-ffbf8b580ca7",
   "metadata": {},
   "outputs": [
    {
     "name": "stdout",
     "output_type": "stream",
     "text": [
      "Value of pi: 3.141592653589793\n",
      "Value of e: 2.718281828459045\n",
      "Value of infinity: inf\n"
     ]
    }
   ],
   "source": [
    "# Mathematical constants\n",
    "print(\"Value of pi:\", m.pi)\n",
    "print(\"Value of e:\", m.e)\n",
    "print(\"Value of infinity:\", m.inf*5)"
   ]
  },
  {
   "cell_type": "markdown",
   "id": "66cfaf62-fee0-458d-acf1-c433395cb04c",
   "metadata": {},
   "source": [
    "### 1.2.2) Assignment operators"
   ]
  },
  {
   "cell_type": "code",
   "execution_count": 5,
   "id": "c4e01fe1-689d-4e7e-a51e-3fb428c890ab",
   "metadata": {},
   "outputs": [
    {
     "name": "stdout",
     "output_type": "stream",
     "text": [
      "Add and Assign: 8\n",
      "Subtract and Assign: 8\n"
     ]
    }
   ],
   "source": [
    "# += Add and Assign\n",
    "num_add_assign = 5\n",
    "num_add_assign += 3  # Equivalent to num_add_assign = num_add_assign + 3\n",
    "print(\"Add and Assign:\", num_add_assign)  \n",
    "\n",
    "# -= Subtract and Assign\n",
    "num_sub_assign = 15\n",
    "num_sub_assign -= 7  # Equivalent to num_sub_assign = num_sub_assign - 7\n",
    "print(\"Subtract and Assign:\", num_sub_assign)  \n"
   ]
  },
  {
   "cell_type": "code",
   "execution_count": 6,
   "id": "565ace04-e4f3-424b-970c-d4f2df1e6cfb",
   "metadata": {},
   "outputs": [
    {
     "ename": "SyntaxError",
     "evalue": "invalid syntax (2152052434.py, line 1)",
     "output_type": "error",
     "traceback": [
      "\u001b[1;36m  Input \u001b[1;32mIn [6]\u001b[1;36m\u001b[0m\n\u001b[1;33m    print (15 -=7)\u001b[0m\n\u001b[1;37m              ^\u001b[0m\n\u001b[1;31mSyntaxError\u001b[0m\u001b[1;31m:\u001b[0m invalid syntax\n"
     ]
    }
   ],
   "source": [
    "print (15 -=7)"
   ]
  },
  {
   "cell_type": "code",
   "execution_count": 7,
   "id": "d6e663fe-4988-4d9e-bb83-f7ca6b94d63a",
   "metadata": {},
   "outputs": [
    {
     "name": "stdout",
     "output_type": "stream",
     "text": [
      "Multiply and Assign: 12\n",
      "Divide and Assign: 4.0\n",
      "Divide and Assign: <class 'float'>\n"
     ]
    }
   ],
   "source": [
    "# *= Multiply and Assign\n",
    "num_mul_assign = 4\n",
    "num_mul_assign *= 3  # Equivalent to num_mul_assign = num_mul_assign * 3\n",
    "print(\"Multiply and Assign:\", num_mul_assign)  \n",
    "\n",
    "# /= Divide and Assign\n",
    "num_div_assign = 20\n",
    "num_div_assign /= 5  # Equivalent to num_div_assign = num_div_assign / 5\n",
    "print(\"Divide and Assign:\", num_div_assign) \n",
    "print(\"Divide and Assign:\", type(num_div_assign) )"
   ]
  },
  {
   "cell_type": "code",
   "execution_count": 15,
   "id": "4beb67c8-e078-4953-90f4-fb5a2c968903",
   "metadata": {},
   "outputs": [
    {
     "name": "stdout",
     "output_type": "stream",
     "text": [
      "Get Modulus and Assign: 2\n",
      "Floor Divide and Assign: 4\n",
      "Get Exponent and Assign: 81\n"
     ]
    }
   ],
   "source": [
    "# %= Get Modulus and Assign\n",
    "num_mod_assign = 17\n",
    "num_mod_assign %= 5  # Equivalent to num_mod_assign = num_mod_assign % 5\n",
    "print(\"Get Modulus and Assign:\", num_mod_assign)  \n",
    "\n",
    "# //= Floor Divide and Assign\n",
    "num_floor_div_assign = 30\n",
    "num_floor_div_assign //= 7  # Equivalent to num_floor_div_assign = num_floor_div_assign // 7\n",
    "print(\"Floor Divide and Assign:\", num_floor_div_assign)  \n",
    "\n",
    "# **= Get Exponent and Assign\n",
    "num_exp_assign = 3\n",
    "num_exp_assign **= 4  # Equivalent to num_exp_assign = num_exp_assign ** 4\n",
    "print(\"Get Exponent and Assign:\", num_exp_assign)  #  (3 raised to the power of 4)"
   ]
  },
  {
   "cell_type": "markdown",
   "id": "cc4f0e65-c332-4363-a5f8-3276b18e8814",
   "metadata": {},
   "source": [
    "### 1.2.3) Comparison operators"
   ]
  },
  {
   "cell_type": "code",
   "execution_count": 16,
   "id": "cd7ead0b-39b6-4cfa-9c08-5ec26740458b",
   "metadata": {},
   "outputs": [
    {
     "name": "stdout",
     "output_type": "stream",
     "text": [
      "Equal to (==): True\n",
      "Greater than or equal to (>=): True\n",
      "Less than or equal to (<=): True\n"
     ]
    }
   ],
   "source": [
    "# Equal to (==)\n",
    "a = 10\n",
    "b = 10\n",
    "print(\"Equal to (==):\", a == b)  \n",
    "\n",
    "# Greater than or equal to (>=)\n",
    "x = 15\n",
    "y = 10\n",
    "print(\"Greater than or equal to (>=):\", x >= y) \n",
    "\n",
    "# Less than or equal to (<=)\n",
    "m = 5\n",
    "n = 8\n",
    "print(\"Less than or equal to (<=):\", m <= n)  "
   ]
  },
  {
   "cell_type": "code",
   "execution_count": 20,
   "id": "9e486f0c-0fbf-4fb7-89ed-f906396e47d8",
   "metadata": {},
   "outputs": [
    {
     "name": "stdout",
     "output_type": "stream",
     "text": [
      "Not equal to (!=): True\n",
      "Greater than (>): True\n",
      "Less than (<): True\n"
     ]
    }
   ],
   "source": [
    "# Not equal to (!=)\n",
    "p = 10\n",
    "q = 5\n",
    "print(\"Not equal to (!=):\", p != q)  \n",
    "\n",
    "# Greater than (>)\n",
    "num1 = 20\n",
    "num2 = 15\n",
    "print(\"Greater than (>):\", num1 > num2)  \n",
    "\n",
    "# Less than (<)\n",
    "value1 = 10\n",
    "value2 = 25\n",
    "print(\"Less than (<):\", value1 < value2)  \n"
   ]
  },
  {
   "cell_type": "code",
   "execution_count": 10,
   "id": "e0d3f83e-07f0-4f19-b4e5-2d38d6f4ccb3",
   "metadata": {},
   "outputs": [
    {
     "name": "stdout",
     "output_type": "stream",
     "text": [
      "Not equal to (!=): False\n"
     ]
    }
   ],
   "source": [
    "# Not equal to (!=)\n",
    "p = 10.5\n",
    "q = 10.5\n",
    "print(\"Not equal to (!=):\", p != q)  "
   ]
  },
  {
   "cell_type": "code",
   "execution_count": 42,
   "id": "daedb7a2-6057-4263-8a7a-bcf7724e72f7",
   "metadata": {},
   "outputs": [],
   "source": [
    "# Examples"
   ]
  },
  {
   "cell_type": "code",
   "execution_count": 45,
   "id": "6e0c52fd-e81a-452d-b83a-1777c2639e50",
   "metadata": {},
   "outputs": [
    {
     "data": {
      "text/plain": [
       "False"
      ]
     },
     "execution_count": 45,
     "metadata": {},
     "output_type": "execute_result"
    }
   ],
   "source": [
    "# values are equal , the same data type\n",
    "6 ==\"6\""
   ]
  },
  {
   "cell_type": "code",
   "execution_count": 47,
   "id": "3c6a9d9c-adc1-4135-8545-3fbd4dc6a704",
   "metadata": {},
   "outputs": [
    {
     "name": "stdout",
     "output_type": "stream",
     "text": [
      "False\n"
     ]
    }
   ],
   "source": [
    "print(True == \"True\")  "
   ]
  },
  {
   "cell_type": "code",
   "execution_count": 48,
   "id": "88d28e2d-2a73-4f3e-989f-9e18bbaa0dbe",
   "metadata": {},
   "outputs": [
    {
     "name": "stdout",
     "output_type": "stream",
     "text": [
      "True\n"
     ]
    }
   ],
   "source": [
    "print(True == 1)  "
   ]
  },
  {
   "cell_type": "code",
   "execution_count": 49,
   "id": "5b80757d-0ae4-4ceb-a2db-62d28f9846d8",
   "metadata": {},
   "outputs": [
    {
     "name": "stdout",
     "output_type": "stream",
     "text": [
      "True\n"
     ]
    }
   ],
   "source": [
    "print(False == 0)  "
   ]
  },
  {
   "cell_type": "code",
   "execution_count": 50,
   "id": "f067ff48-9dbf-4dce-8ca4-fd1d52101c6a",
   "metadata": {},
   "outputs": [
    {
     "name": "stdout",
     "output_type": "stream",
     "text": [
      "False\n"
     ]
    }
   ],
   "source": [
    "print(True == 100)  "
   ]
  },
  {
   "cell_type": "markdown",
   "id": "89ed61a5-8a8d-443b-a661-e59a6bd0624c",
   "metadata": {},
   "source": [
    "### 1.2.4) logical operators "
   ]
  },
  {
   "cell_type": "code",
   "execution_count": null,
   "id": "6d09d75a-4f57-49fd-b296-165472f0395c",
   "metadata": {},
   "outputs": [],
   "source": [
    "#AND\n",
    "\"\"\"\n",
    "Trace Table:\n",
    "1 | 1 --->1\n",
    "1 | 0 --->0\n",
    "0 | 1 --->0\n",
    "0 | 0 --->0\n",
    "\"\"\""
   ]
  },
  {
   "cell_type": "code",
   "execution_count": 51,
   "id": "0162d94e-299a-47eb-90cd-d0a744d386d1",
   "metadata": {},
   "outputs": [
    {
     "name": "stdout",
     "output_type": "stream",
     "text": [
      "True\n",
      "False\n"
     ]
    }
   ],
   "source": [
    "#Logical AND\n",
    "x = 5\n",
    "y = 10\n",
    "print(x > 0 and y < 20)  # (Both conditions are true)\n",
    "print(x < 0 and y < 20)  # (First condition is false)"
   ]
  },
  {
   "cell_type": "code",
   "execution_count": null,
   "id": "9fb6bb8d-7b47-4a0a-9c31-34483be958dc",
   "metadata": {},
   "outputs": [],
   "source": [
    "#OR\n",
    "\"\"\"\n",
    "Trace Table:\n",
    "1 | 1 --->1\n",
    "1 | 0 --->1\n",
    "0 | 1 --->1\n",
    "0 | 0 --->0\n",
    "\"\"\""
   ]
  },
  {
   "cell_type": "code",
   "execution_count": 52,
   "id": "1ed7d850-4e21-48f0-941b-d2c46eeb6ccc",
   "metadata": {},
   "outputs": [
    {
     "name": "stdout",
     "output_type": "stream",
     "text": [
      "True\n",
      "True\n",
      "False\n"
     ]
    }
   ],
   "source": [
    "#Logical OR\n",
    "x = 5\n",
    "y = 10\n",
    "print(x > 0 or y < 20)  # (At least one condition is true)\n",
    "print(x < 0 or y < 20)  # (Second condition is true)\n",
    "print(x < 0 or y > 20)  # (Both conditions are false)"
   ]
  },
  {
   "cell_type": "code",
   "execution_count": 53,
   "id": "ced92f3d-7ae3-4e40-a82f-ec18fdfb58de",
   "metadata": {},
   "outputs": [
    {
     "name": "stdout",
     "output_type": "stream",
     "text": [
      "False\n",
      "True\n"
     ]
    }
   ],
   "source": [
    "#Logical NOT\n",
    "x = 5\n",
    "print(not x > 0)  # (x > 0 is true, so not(x > 0) is false)\n",
    "print(not x < 0)  # (x < 0 is false, so not(x < 0) is true)\n"
   ]
  },
  {
   "cell_type": "code",
   "execution_count": 55,
   "id": "a1b16e16-2049-4264-84df-b45c737c3976",
   "metadata": {},
   "outputs": [],
   "source": [
    "# Examples"
   ]
  },
  {
   "cell_type": "code",
   "execution_count": 58,
   "id": "dfd25e95-c657-4acc-a061-ddd19366c4df",
   "metadata": {},
   "outputs": [
    {
     "data": {
      "text/plain": [
       "5"
      ]
     },
     "execution_count": 58,
     "metadata": {},
     "output_type": "execute_result"
    }
   ],
   "source": [
    "100 and 5"
   ]
  },
  {
   "cell_type": "code",
   "execution_count": 60,
   "id": "ea8b37ba-7699-49a3-abed-14187dd529cb",
   "metadata": {},
   "outputs": [
    {
     "data": {
      "text/plain": [
       "False"
      ]
     },
     "execution_count": 60,
     "metadata": {},
     "output_type": "execute_result"
    }
   ],
   "source": [
    "not \"sample\""
   ]
  },
  {
   "cell_type": "code",
   "execution_count": 63,
   "id": "741e496d-7050-43d0-9ec3-60d084341eae",
   "metadata": {},
   "outputs": [
    {
     "data": {
      "text/plain": [
       "True"
      ]
     },
     "execution_count": 63,
     "metadata": {},
     "output_type": "execute_result"
    }
   ],
   "source": [
    "not \"\""
   ]
  },
  {
   "cell_type": "code",
   "execution_count": 64,
   "id": "a816c701-b3cc-48ca-add9-0d2799bbb4e9",
   "metadata": {},
   "outputs": [
    {
     "data": {
      "text/plain": [
       "0"
      ]
     },
     "execution_count": 64,
     "metadata": {},
     "output_type": "execute_result"
    }
   ],
   "source": [
    "0 and 100"
   ]
  },
  {
   "cell_type": "code",
   "execution_count": 65,
   "id": "5d89b4a6-2f17-46a6-b096-5b0a9f82e55e",
   "metadata": {},
   "outputs": [
    {
     "data": {
      "text/plain": [
       "100"
      ]
     },
     "execution_count": 65,
     "metadata": {},
     "output_type": "execute_result"
    }
   ],
   "source": [
    "0 or 100"
   ]
  },
  {
   "cell_type": "code",
   "execution_count": 66,
   "id": "4a39dc50-2a21-48ba-883a-00bbcfbc987f",
   "metadata": {},
   "outputs": [
    {
     "data": {
      "text/plain": [
       "2"
      ]
     },
     "execution_count": 66,
     "metadata": {},
     "output_type": "execute_result"
    }
   ],
   "source": [
    "2 or 100"
   ]
  },
  {
   "cell_type": "markdown",
   "id": "65bdb3a8-f338-42a8-a3ed-250bf78a826d",
   "metadata": {},
   "source": [
    "### 1.2.5) Falsy values"
   ]
  },
  {
   "cell_type": "code",
   "execution_count": null,
   "id": "d6d1e6fd-d4f8-4908-9e3e-16172097601c",
   "metadata": {},
   "outputs": [],
   "source": [
    "\"\"\"\n",
    "value = False\n",
    "value = None\n",
    "value = 0\n",
    "value = []\n",
    "value = ''\n",
    "\n",
    "\"\"\""
   ]
  },
  {
   "cell_type": "markdown",
   "id": "e3a61d25-e4e9-4e50-bf95-550ce5b8ca88",
   "metadata": {},
   "source": [
    "### 1.2.6) Built-in-function-Numbers"
   ]
  },
  {
   "cell_type": "code",
   "execution_count": 57,
   "id": "fc5ba01f-02b5-4eb4-b2be-3b37163e7f6f",
   "metadata": {},
   "outputs": [
    {
     "name": "stdout",
     "output_type": "stream",
     "text": [
      "10\n"
     ]
    }
   ],
   "source": [
    "number = -10\n",
    "print(abs(number))  "
   ]
  },
  {
   "cell_type": "code",
   "execution_count": 58,
   "id": "d9d3e7b9-0c92-4473-9ad5-97483a84e8c3",
   "metadata": {},
   "outputs": [
    {
     "name": "stdout",
     "output_type": "stream",
     "text": [
      "3.14\n"
     ]
    }
   ],
   "source": [
    "number = 3.14159\n",
    "rounded_number = round(number, 2)\n",
    "print(rounded_number) "
   ]
  },
  {
   "cell_type": "code",
   "execution_count": 59,
   "id": "cc2d5c8c-3e83-41e8-9ce3-ffeec87755a6",
   "metadata": {},
   "outputs": [
    {
     "name": "stdout",
     "output_type": "stream",
     "text": [
      "9\n"
     ]
    }
   ],
   "source": [
    "numbers = [3, 7, 1, 9, 5]\n",
    "print(max(numbers)) "
   ]
  },
  {
   "cell_type": "code",
   "execution_count": null,
   "id": "a955228e-3090-4b60-a569-bce6804fede9",
   "metadata": {},
   "outputs": [],
   "source": [
    "numbers = [3, 7, 1, 9, 5]\n",
    "print(min(numbers))  "
   ]
  },
  {
   "cell_type": "code",
   "execution_count": 60,
   "id": "1842a6a0-1dad-4286-b52e-ae0ad3ac2537",
   "metadata": {},
   "outputs": [
    {
     "name": "stdout",
     "output_type": "stream",
     "text": [
      "8\n"
     ]
    }
   ],
   "source": [
    "result = pow(2, 3)  # 2 raised to the power of 3\n",
    "print(result)  "
   ]
  },
  {
   "cell_type": "code",
   "execution_count": 1,
   "id": "220dc5b2-a8e2-4fad-8d10-825b748b2a1d",
   "metadata": {},
   "outputs": [
    {
     "name": "stdout",
     "output_type": "stream",
     "text": [
      "15\n"
     ]
    }
   ],
   "source": [
    "numbers = [1, 2, 3, 4, 5]\n",
    "print(sum(numbers))  "
   ]
  },
  {
   "cell_type": "code",
   "execution_count": 73,
   "id": "1e3fda76-9d34-46b9-ae1e-0f40a3240313",
   "metadata": {},
   "outputs": [
    {
     "data": {
      "text/plain": [
       "['__abs__',\n",
       " '__add__',\n",
       " '__and__',\n",
       " '__bool__',\n",
       " '__ceil__',\n",
       " '__class__',\n",
       " '__delattr__',\n",
       " '__dir__',\n",
       " '__divmod__',\n",
       " '__doc__',\n",
       " '__eq__',\n",
       " '__float__',\n",
       " '__floor__',\n",
       " '__floordiv__',\n",
       " '__format__',\n",
       " '__ge__',\n",
       " '__getattribute__',\n",
       " '__getnewargs__',\n",
       " '__gt__',\n",
       " '__hash__',\n",
       " '__index__',\n",
       " '__init__',\n",
       " '__init_subclass__',\n",
       " '__int__',\n",
       " '__invert__',\n",
       " '__le__',\n",
       " '__lshift__',\n",
       " '__lt__',\n",
       " '__mod__',\n",
       " '__mul__',\n",
       " '__ne__',\n",
       " '__neg__',\n",
       " '__new__',\n",
       " '__or__',\n",
       " '__pos__',\n",
       " '__pow__',\n",
       " '__radd__',\n",
       " '__rand__',\n",
       " '__rdivmod__',\n",
       " '__reduce__',\n",
       " '__reduce_ex__',\n",
       " '__repr__',\n",
       " '__rfloordiv__',\n",
       " '__rlshift__',\n",
       " '__rmod__',\n",
       " '__rmul__',\n",
       " '__ror__',\n",
       " '__round__',\n",
       " '__rpow__',\n",
       " '__rrshift__',\n",
       " '__rshift__',\n",
       " '__rsub__',\n",
       " '__rtruediv__',\n",
       " '__rxor__',\n",
       " '__setattr__',\n",
       " '__sizeof__',\n",
       " '__str__',\n",
       " '__sub__',\n",
       " '__subclasshook__',\n",
       " '__truediv__',\n",
       " '__trunc__',\n",
       " '__xor__',\n",
       " 'as_integer_ratio',\n",
       " 'bit_count',\n",
       " 'bit_length',\n",
       " 'conjugate',\n",
       " 'denominator',\n",
       " 'from_bytes',\n",
       " 'imag',\n",
       " 'numerator',\n",
       " 'real',\n",
       " 'to_bytes']"
      ]
     },
     "execution_count": 73,
     "metadata": {},
     "output_type": "execute_result"
    }
   ],
   "source": [
    "number=123\n",
    "dir(number)"
   ]
  },
  {
   "cell_type": "markdown",
   "id": "c44c86e1-8458-4120-bf9d-5b226f25c330",
   "metadata": {},
   "source": [
    "## 1.3) Strings"
   ]
  },
  {
   "cell_type": "markdown",
   "id": "7be7707d-b97b-409f-b1ff-6e7e2b20eeeb",
   "metadata": {},
   "source": [
    "### 1.3.1) Escape Characters"
   ]
  },
  {
   "cell_type": "code",
   "execution_count": 3,
   "id": "d4421746-c0dc-49fb-a57f-52154c6b010e",
   "metadata": {},
   "outputs": [
    {
     "name": "stdout",
     "output_type": "stream",
     "text": [
      "Hello, world!\n",
      "Hello, world!\n",
      "Hello, world! \"Python Programming Language\"\n",
      "Hello, world! 'Python Programming Language'\n"
     ]
    }
   ],
   "source": [
    "my_string_one = \"Hello, world!\"\n",
    "print(my_string_one)\n",
    "\n",
    "my_string_two = 'Hello, world!'\n",
    "print(my_string_two)\n",
    "\n",
    "my_string_three = 'Hello, world! \"Python Programming Language\"'\n",
    "print(my_string_three)\n",
    "\n",
    "my_string_four = \"Hello, world! 'Python Programming Language'\"\n",
    "print(my_string_four)\n"
   ]
  },
  {
   "cell_type": "code",
   "execution_count": 6,
   "id": "0f3ccf8b-79e5-462f-b628-7ba837ca7dea",
   "metadata": {},
   "outputs": [
    {
     "ename": "SyntaxError",
     "evalue": "invalid syntax. Perhaps you forgot a comma? (3139438781.py, line 1)",
     "output_type": "error",
     "traceback": [
      "\u001b[1;36m  Input \u001b[1;32mIn [6]\u001b[1;36m\u001b[0m\n\u001b[1;33m    my_string_five = 'Hello, world! 'Python Programming Language''\u001b[0m\n\u001b[1;37m                     ^\u001b[0m\n\u001b[1;31mSyntaxError\u001b[0m\u001b[1;31m:\u001b[0m invalid syntax. Perhaps you forgot a comma?\n"
     ]
    }
   ],
   "source": [
    "my_string_five = 'Hello, world! 'Python Programming Language''\n",
    "print(my_string_five)"
   ]
  },
  {
   "cell_type": "code",
   "execution_count": 10,
   "id": "c0f019af-2e9d-429c-addc-b11bcf9d5046",
   "metadata": {},
   "outputs": [
    {
     "name": "stdout",
     "output_type": "stream",
     "text": [
      "Hello,\n",
      "world!\n"
     ]
    }
   ],
   "source": [
    "#Newline (\\n):\n",
    "print(\"Hello,\\nworld!\")"
   ]
  },
  {
   "cell_type": "code",
   "execution_count": 11,
   "id": "573d818b-cffc-43fc-8d7c-475e97c55074",
   "metadata": {},
   "outputs": [
    {
     "name": "stdout",
     "output_type": "stream",
     "text": [
      "Hello,\tworld!\n"
     ]
    }
   ],
   "source": [
    "#Tab (\\t):\n",
    "print(\"Hello,\\tworld!\")"
   ]
  },
  {
   "cell_type": "code",
   "execution_count": 12,
   "id": "2b72ddf0-c503-4ffd-91c7-a00a8fcafddc",
   "metadata": {},
   "outputs": [
    {
     "name": "stdout",
     "output_type": "stream",
     "text": [
      "This is a backslash: \\\n"
     ]
    }
   ],
   "source": [
    "#Backslash (\\)\n",
    "print(\"This is a backslash: \\\\\")"
   ]
  },
  {
   "cell_type": "code",
   "execution_count": 12,
   "id": "08f7b94a-c3b0-4457-b892-a8941c3f82c4",
   "metadata": {},
   "outputs": [
    {
     "name": "stdout",
     "output_type": "stream",
     "text": [
      "He's a good boy.\n"
     ]
    }
   ],
   "source": [
    "#Single Quote (')\n",
    "print('He\\'s a good boy.')"
   ]
  },
  {
   "cell_type": "code",
   "execution_count": 14,
   "id": "45bd3d83-e9d6-4e5d-ad32-d3a73bf45b02",
   "metadata": {},
   "outputs": [
    {
     "name": "stdout",
     "output_type": "stream",
     "text": [
      "She said, \"Hello!\"\n"
     ]
    }
   ],
   "source": [
    "#Double Quote (\")\n",
    "print(\"She said, \\\"Hello!\\\"\")"
   ]
  },
  {
   "cell_type": "code",
   "execution_count": 19,
   "id": "dd288a0b-9cab-42bb-a65b-82b0c8f7c4d3",
   "metadata": {},
   "outputs": [
    {
     "name": "stdout",
     "output_type": "stream",
     "text": [
      "C:\\Users\\John\\Desktop\n"
     ]
    }
   ],
   "source": [
    "#Raw String (r'')\n",
    "print(r'C:\\Users\\John\\Desktop')"
   ]
  },
  {
   "cell_type": "code",
   "execution_count": 20,
   "id": "eb653140-638f-4811-9d88-93ac7a198a24",
   "metadata": {},
   "outputs": [
    {
     "name": "stdout",
     "output_type": "stream",
     "text": [
      "This is a multi-line\n",
      "string using triple single quotes.\n",
      "It can span across multiple lines.\n"
     ]
    }
   ],
   "source": [
    "message = '''This is a multi-line\n",
    "string using triple single quotes.\n",
    "It can span across multiple lines.'''\n",
    "\n",
    "print(message)"
   ]
  },
  {
   "cell_type": "markdown",
   "id": "c69b4e18-fe56-481c-ae99-97b5f650be1a",
   "metadata": {},
   "source": [
    "## Accessing"
   ]
  },
  {
   "cell_type": "code",
   "execution_count": 10,
   "id": "5f0dcff0-8886-4a8e-b55f-0698a40074ed",
   "metadata": {},
   "outputs": [
    {
     "name": "stdout",
     "output_type": "stream",
     "text": [
      "H\n",
      " \n",
      "!\n"
     ]
    }
   ],
   "source": [
    "my_string = \"Hello, world!\"\n",
    "# Accessing individual characters\n",
    "print(my_string[0])  # Output: H\n",
    "print(my_string[6])  # Output: \" \"\n",
    "print(my_string[-1])  # Output: ! (last character)"
   ]
  },
  {
   "cell_type": "code",
   "execution_count": 13,
   "id": "1ddbcbe0-cd8c-4de7-beec-c96257946338",
   "metadata": {},
   "outputs": [
    {
     "name": "stdout",
     "output_type": "stream",
     "text": [
      "ello\n",
      "Hello\n",
      "orld!\n"
     ]
    }
   ],
   "source": [
    "my_string = \"Hello,world!\"\n",
    "# Accessing a range of characters (slicing)\n",
    "print(my_string[1:5])  # Output: ello\n",
    "print(my_string[:5])  # Output: Hello (from beginning up to index 5)\n",
    "print(my_string[7:])  # Output: world! (from index 7 to the end)"
   ]
  },
  {
   "cell_type": "code",
   "execution_count": 17,
   "id": "98f249f6-c4b6-4af5-b371-94603dadc573",
   "metadata": {},
   "outputs": [
    {
     "name": "stdout",
     "output_type": "stream",
     "text": [
      "Hlo ol!\n",
      "!dlrow ,olleH\n"
     ]
    }
   ],
   "source": [
    "my_string = \"Hello, world!\"\n",
    "# Accessing characters with steps\n",
    "print(my_string[::2])  # Output: Hlo ol!\n",
    "print(my_string[::-1])  # Output: !dlrow ,olleH (reversed string)"
   ]
  },
  {
   "cell_type": "markdown",
   "id": "f960b407-d5a4-416a-91ff-7ab8919b837b",
   "metadata": {},
   "source": [
    "### 1.3.2) Built-in-function_String"
   ]
  },
  {
   "cell_type": "code",
   "execution_count": 33,
   "id": "d9aff19e-e2fc-4ee0-80b3-ff66bed71fd7",
   "metadata": {},
   "outputs": [
    {
     "name": "stdout",
     "output_type": "stream",
     "text": [
      "13\n"
     ]
    }
   ],
   "source": [
    "my_string = \"Hello, world!\"\n",
    "print(len(my_string))  "
   ]
  },
  {
   "cell_type": "code",
   "execution_count": 28,
   "id": "e9e8399f-a753-4b29-aa4a-eea857d971e3",
   "metadata": {},
   "outputs": [
    {
     "name": "stdout",
     "output_type": "stream",
     "text": [
      "HELLO\n"
     ]
    }
   ],
   "source": [
    "message = \"hello\"\n",
    "print(message.upper())  "
   ]
  },
  {
   "cell_type": "code",
   "execution_count": 18,
   "id": "7cb5efda-0c08-42a5-9d28-7b8afad43459",
   "metadata": {},
   "outputs": [
    {
     "name": "stdout",
     "output_type": "stream",
     "text": [
      "Ahmed\n"
     ]
    }
   ],
   "source": [
    "name = \"Ahmed\"\n",
    "print(name.capitalize())  "
   ]
  },
  {
   "cell_type": "code",
   "execution_count": 31,
   "id": "6445a7ba-5ba7-4d6c-a0bb-a8dd8600cc60",
   "metadata": {},
   "outputs": [
    {
     "name": "stdout",
     "output_type": "stream",
     "text": [
      "Python Programming Is Fun\n"
     ]
    }
   ],
   "source": [
    "sentence = \"python programming is fun\"\n",
    "print(sentence.title()) "
   ]
  },
  {
   "cell_type": "code",
   "execution_count": 56,
   "id": "6650b4a2-1c3f-41c5-a492-9e500921512c",
   "metadata": {},
   "outputs": [
    {
     "name": "stdout",
     "output_type": "stream",
     "text": [
      "Stripped: Hello, world!\n",
      "Left Stripped: Hello, world!   \n",
      "Right Stripped:    Hello, world!\n"
     ]
    }
   ],
   "source": [
    "# Original string with leading and trailing whitespace\n",
    "original_string = \"   Hello, world!   \"\n",
    "\n",
    "# Using strip() to remove leading and trailing whitespace\n",
    "stripped_string = original_string.strip()\n",
    "print(\"Stripped:\", stripped_string)  \n",
    "\n",
    "# Using lstrip() to remove leading whitespace\n",
    "left_stripped_string = original_string.lstrip()\n",
    "print(\"Left Stripped:\", left_stripped_string) # Output: \"Hello, world!   \"\n",
    "\n",
    "# Using rstrip() to remove trailing whitespace\n",
    "right_stripped_string = original_string.rstrip()\n",
    "print(\"Right Stripped:\", right_stripped_string)  "
   ]
  },
  {
   "cell_type": "code",
   "execution_count": 21,
   "id": "25d08647-891b-407f-8b0a-ef4bfa4c723f",
   "metadata": {},
   "outputs": [
    {
     "ename": "TypeError",
     "evalue": "can only concatenate str (not \"int\") to str",
     "output_type": "error",
     "traceback": [
      "\u001b[1;31m---------------------------------------------------------------------------\u001b[0m",
      "\u001b[1;31mTypeError\u001b[0m                                 Traceback (most recent call last)",
      "Input \u001b[1;32mIn [21]\u001b[0m, in \u001b[0;36m<cell line: 3>\u001b[1;34m()\u001b[0m\n\u001b[0;32m      1\u001b[0m product \u001b[38;5;241m=\u001b[39m \u001b[38;5;124m\"\u001b[39m\u001b[38;5;124msmartphone\u001b[39m\u001b[38;5;124m\"\u001b[39m\n\u001b[0;32m      2\u001b[0m price \u001b[38;5;241m=\u001b[39m \u001b[38;5;241m699\u001b[39m\n\u001b[1;32m----> 3\u001b[0m message \u001b[38;5;241m=\u001b[39m \u001b[38;5;124;43m\"\u001b[39;49m\u001b[38;5;124;43mThe \u001b[39;49m\u001b[38;5;124;43m\"\u001b[39;49m\u001b[43m \u001b[49m\u001b[38;5;241;43m+\u001b[39;49m\u001b[43m \u001b[49m\u001b[43mproduct\u001b[49m\u001b[43m \u001b[49m\u001b[38;5;241;43m+\u001b[39;49m\u001b[43m \u001b[49m\u001b[38;5;124;43m\"\u001b[39;49m\u001b[38;5;124;43m costs $\u001b[39;49m\u001b[38;5;124;43m\"\u001b[39;49m\u001b[43m \u001b[49m\u001b[38;5;241;43m+\u001b[39;49m\u001b[43m \u001b[49m\u001b[43mprice\u001b[49m \u001b[38;5;241m+\u001b[39m \u001b[38;5;124m\"\u001b[39m\u001b[38;5;124m.\u001b[39m\u001b[38;5;124m\"\u001b[39m\n\u001b[0;32m      4\u001b[0m \u001b[38;5;28mprint\u001b[39m(message)\n",
      "\u001b[1;31mTypeError\u001b[0m: can only concatenate str (not \"int\") to str"
     ]
    }
   ],
   "source": [
    "product = \"smartphone\"\n",
    "price = 699\n",
    "message = \"The \" + product + \" costs $\" + price + \".\"\n",
    "print(message)"
   ]
  },
  {
   "cell_type": "code",
   "execution_count": 20,
   "id": "b6c84ddd-391c-4361-bc49-cf0b6ab9258b",
   "metadata": {},
   "outputs": [
    {
     "name": "stdout",
     "output_type": "stream",
     "text": [
      "The smartphone costs $699.\n"
     ]
    }
   ],
   "source": [
    "# Concatenate variables to create a message\n",
    "product = \"smartphone\"\n",
    "price = 699\n",
    "message = \"The \" + product + \" costs $\" + str(price) + \".\"\n",
    "print(message)"
   ]
  },
  {
   "cell_type": "code",
   "execution_count": 14,
   "id": "996d20e3-04c5-43db-a029-bd4bfa08c38f",
   "metadata": {},
   "outputs": [
    {
     "name": "stdout",
     "output_type": "stream",
     "text": [
      "--------------------\n",
      "Welcome to My Program\n",
      "--------------------\n"
     ]
    }
   ],
   "source": [
    "# Repeat a string multiple times\n",
    "separator = \"-\" * 20\n",
    "print(separator)\n",
    "print(\"Welcome to My Program\")\n",
    "print(separator)"
   ]
  },
  {
   "cell_type": "code",
   "execution_count": 24,
   "id": "fb4a8570-0a0d-4e55-8e9e-3816782ecb26",
   "metadata": {},
   "outputs": [
    {
     "name": "stdout",
     "output_type": "stream",
     "text": [
      "Hello, my name is Ahmed and I am 30 years old.\n"
     ]
    }
   ],
   "source": [
    "# Using f-strings for string interpolation\n",
    "name = \"Ahmed\"\n",
    "age = 30\n",
    "greeting = f\"Hello, my name is {name} and I am {age} years old.\"\n",
    "print(greeting)"
   ]
  },
  {
   "cell_type": "code",
   "execution_count": 36,
   "id": "7937d9b4-14b9-4d6c-924e-ea74f0d0ddcc",
   "metadata": {},
   "outputs": [
    {
     "name": "stdout",
     "output_type": "stream",
     "text": [
      "Hi, world!\n"
     ]
    }
   ],
   "source": [
    "message = \"Hello, world!\"\n",
    "new_message = message.replace(\"Hello\", \"Hi\")\n",
    "print(new_message) "
   ]
  },
  {
   "cell_type": "code",
   "execution_count": 38,
   "id": "5f993ea8-0260-49f8-aa3c-1f730018190d",
   "metadata": {},
   "outputs": [
    {
     "name": "stdout",
     "output_type": "stream",
     "text": [
      "['Python', 'is', 'awesome']\n"
     ]
    }
   ],
   "source": [
    "sentence = \"Python is awesome\"\n",
    "words = sentence.split(\" \")  # Default delimiter is whitespace\n",
    "print(words)  "
   ]
  },
  {
   "cell_type": "code",
   "execution_count": 27,
   "id": "02cd39f9-5ad7-42fb-b780-5e04d9635b70",
   "metadata": {},
   "outputs": [
    {
     "name": "stdout",
     "output_type": "stream",
     "text": [
      "Python is awesome\n"
     ]
    }
   ],
   "source": [
    "words = ['Python', 'is', 'awesome']\n",
    "sentence = ' '.join(words)\n",
    "print(sentence)  "
   ]
  },
  {
   "cell_type": "code",
   "execution_count": 54,
   "id": "322b209b-c0a2-4205-a5c7-bfe3396cfd62",
   "metadata": {},
   "outputs": [
    {
     "name": "stdout",
     "output_type": "stream",
     "text": [
      "True\n",
      "False\n",
      "False\n"
     ]
    }
   ],
   "source": [
    "# element inside quotes\"\n",
    "#isdigit(): Checks if all characters in the string are digits.\n",
    "num_str = \"12345\"\n",
    "alpha_num_str = \"123abc\"\n",
    "fraction_str = \"½\"\n",
    "\n",
    "print(num_str.isdigit())  \n",
    "print(alpha_num_str.isdigit())  \n",
    "print(fraction_str.isdigit())"
   ]
  },
  {
   "cell_type": "code",
   "execution_count": 32,
   "id": "a95bfff9-0a3c-44b1-bb61-604e6818d1bf",
   "metadata": {},
   "outputs": [
    {
     "name": "stdout",
     "output_type": "stream",
     "text": [
      "True\n",
      "False\n",
      "False\n",
      "True\n",
      "True\n",
      "False\n"
     ]
    }
   ],
   "source": [
    "print(\"123\".isdigit())       # True\n",
    "print(\"123.45\".isdigit())    # False (contains a period)\n",
    "print(\"12 34\".isdigit())     # False\n",
    "\n",
    "print(\"٢٣\".isdigit())        # True (Arabic-Indic digits)\n",
    "print(\"3²\".isdigit())        # True (superscript two)\n",
    "print(\"Ⅷ\".isdigit())       # False (Roman numeral)"
   ]
  },
  {
   "cell_type": "code",
   "execution_count": 55,
   "id": "e2a1fe38-cb84-4e5d-9397-a76d05c73e31",
   "metadata": {},
   "outputs": [
    {
     "name": "stdout",
     "output_type": "stream",
     "text": [
      "True\n",
      "True\n",
      "False\n"
     ]
    }
   ],
   "source": [
    "#isnumeric(): Checks if all characters in the string are numeric (including digits, fractions..etc.).\n",
    "num_str = \"12345\"\n",
    "fraction_str = \"½\"\n",
    "alpha_num_str = \"123abc\"\n",
    "\n",
    "print(num_str.isnumeric())  \n",
    "print(fraction_str.isnumeric()) \n",
    "print(alpha_num_str.isnumeric())  \n"
   ]
  },
  {
   "cell_type": "code",
   "execution_count": 30,
   "id": "e6f331a2-c131-43fc-b294-0e845bebd378",
   "metadata": {},
   "outputs": [
    {
     "name": "stdout",
     "output_type": "stream",
     "text": [
      "True\n",
      "False\n",
      "False\n",
      "True\n",
      "True\n",
      "True\n",
      "True\n"
     ]
    }
   ],
   "source": [
    "print(\"123\".isnumeric())      # True\n",
    "print(\"123.45\".isnumeric())   # False (contains a period)\n",
    "print(\"12 34\".isnumeric())    # False (contains a space)\n",
    "\n",
    "print(\"٢٣\".isnumeric())       # True (Arabic-Indic digits)\n",
    "print(\"3²\".isnumeric())       # True (superscript two)\n",
    "print(\"Ⅷ\".isnumeric())      # True (Roman numeral for eight)\n",
    "print(\"⅔\".isnumeric())        # True (fraction)"
   ]
  },
  {
   "cell_type": "code",
   "execution_count": 48,
   "id": "b785f70a-5302-4fd9-b17a-7901a11363bd",
   "metadata": {},
   "outputs": [
    {
     "name": "stdout",
     "output_type": "stream",
     "text": [
      "True\n",
      "False\n",
      "False\n"
     ]
    }
   ],
   "source": [
    "alpha_str = \"abcDEF\"\n",
    "alpha_num_str = \"123abc\"\n",
    "num_str = \"12345\"\n",
    "\n",
    "print(alpha_str.isalpha())  \n",
    "print(alpha_num_str.isalpha()) \n",
    "print(num_str.isalpha())  "
   ]
  },
  {
   "cell_type": "code",
   "execution_count": 17,
   "id": "15648722-deea-4e71-a7fa-7a0517e1badf",
   "metadata": {},
   "outputs": [
    {
     "name": "stdout",
     "output_type": "stream",
     "text": [
      "Left Justified with Spaces:\n",
      "Hello                         \n",
      "Right Justified with Spaces:\n",
      "                         Hello\n",
      "Right Justified with Stars:\n",
      "*************************Hello\n",
      "Zero Filled:\n",
      "00042\n"
     ]
    }
   ],
   "source": [
    "a = \"Hello\"\n",
    "\n",
    "# adds spaces to the right of the string to make the total length 30 characters.\n",
    "left_justified = a.ljust(30)\n",
    "print(\"Left Justified with Spaces:\")\n",
    "print(left_justified)\n",
    "\n",
    "#adds spaces to the left of the string to make the total length 30 characters\n",
    "right_justified_spaces = a.rjust(30)\n",
    "right_justified_star = a.rjust(30, '*')\n",
    "print(\"Right Justified with Spaces:\")\n",
    "print(right_justified_spaces)\n",
    "print(\"Right Justified with Stars:\")\n",
    "print(right_justified_star)\n",
    "\n",
    "#the string with zeros from the left to make the total length 5 characters\n",
    "a = \"42\"\n",
    "zero_filled = a.zfill(5)\n",
    "print(\"Zero Filled:\")\n",
    "print(zero_filled)"
   ]
  },
  {
   "cell_type": "markdown",
   "id": "06bfacd6-33cf-4d74-83dd-cbea8af01306",
   "metadata": {},
   "source": [
    "### 1.3.3) Input from user"
   ]
  },
  {
   "cell_type": "code",
   "execution_count": 34,
   "id": "d76cf6f1-a82f-4355-821c-9d2c6ce2c0c7",
   "metadata": {},
   "outputs": [
    {
     "name": "stdout",
     "output_type": "stream",
     "text": [
      "Enter a number:  Hello\n"
     ]
    },
    {
     "data": {
      "text/plain": [
       "str"
      ]
     },
     "execution_count": 34,
     "metadata": {},
     "output_type": "execute_result"
    }
   ],
   "source": [
    "user_input = input(\"Enter a number: \")\n",
    "type(user_input)"
   ]
  },
  {
   "cell_type": "code",
   "execution_count": 66,
   "id": "880f92b9-673a-4bce-a1bd-82e4968eb63b",
   "metadata": {},
   "outputs": [
    {
     "name": "stdout",
     "output_type": "stream",
     "text": [
      "Enter a number:  12\n"
     ]
    },
    {
     "name": "stdout",
     "output_type": "stream",
     "text": [
      "<class 'str'>\n",
      "<class 'int'>\n"
     ]
    }
   ],
   "source": [
    "user_input = input(\"Enter a number: \")\n",
    "print(type(user_input))\n",
    "\n",
    "user_input_int=int(user_input)\n",
    "print(type(user_input_int))"
   ]
  },
  {
   "cell_type": "code",
   "execution_count": 35,
   "id": "a7506b86-8e63-4b08-ab42-c7d9d423c2b6",
   "metadata": {},
   "outputs": [
    {
     "name": "stdout",
     "output_type": "stream",
     "text": [
      "Enter a number:  55.5\n"
     ]
    },
    {
     "name": "stdout",
     "output_type": "stream",
     "text": [
      "<class 'str'>\n"
     ]
    },
    {
     "ename": "ValueError",
     "evalue": "invalid literal for int() with base 10: '55.5'",
     "output_type": "error",
     "traceback": [
      "\u001b[1;31m---------------------------------------------------------------------------\u001b[0m",
      "\u001b[1;31mValueError\u001b[0m                                Traceback (most recent call last)",
      "Input \u001b[1;32mIn [35]\u001b[0m, in \u001b[0;36m<cell line: 5>\u001b[1;34m()\u001b[0m\n\u001b[0;32m      2\u001b[0m user_input \u001b[38;5;241m=\u001b[39m \u001b[38;5;28minput\u001b[39m(\u001b[38;5;124m\"\u001b[39m\u001b[38;5;124mEnter a number: \u001b[39m\u001b[38;5;124m\"\u001b[39m)\n\u001b[0;32m      3\u001b[0m \u001b[38;5;28mprint\u001b[39m(\u001b[38;5;28mtype\u001b[39m(user_input))\n\u001b[1;32m----> 5\u001b[0m user_input_int\u001b[38;5;241m=\u001b[39m\u001b[38;5;28;43mint\u001b[39;49m\u001b[43m(\u001b[49m\u001b[43muser_input\u001b[49m\u001b[43m)\u001b[49m\n\u001b[0;32m      6\u001b[0m \u001b[38;5;28mprint\u001b[39m(\u001b[38;5;28mtype\u001b[39m(user_input_int))\n",
      "\u001b[1;31mValueError\u001b[0m: invalid literal for int() with base 10: '55.5'"
     ]
    }
   ],
   "source": [
    "#Note ????????????????????\n",
    "user_input = input(\"Enter a number: \")\n",
    "print(type(user_input))\n",
    "\n",
    "user_input_int=int(user_input)\n",
    "print(type(user_input_int))"
   ]
  },
  {
   "cell_type": "code",
   "execution_count": 67,
   "id": "50606bdb-df32-42a8-bb28-9aaf36e1af07",
   "metadata": {},
   "outputs": [
    {
     "name": "stdout",
     "output_type": "stream",
     "text": [
      "Hello world!\n"
     ]
    }
   ],
   "source": [
    "str1 = \"Hello\"\n",
    "str2 = \"world!\"\n",
    "concatenated_string = str1 + \" \" + str2\n",
    "print(concatenated_string) "
   ]
  },
  {
   "cell_type": "code",
   "execution_count": 72,
   "id": "4efee713-9c73-41b7-a001-557bfe8d6c04",
   "metadata": {},
   "outputs": [
    {
     "data": {
      "text/plain": [
       "['__add__',\n",
       " '__class__',\n",
       " '__contains__',\n",
       " '__delattr__',\n",
       " '__dir__',\n",
       " '__doc__',\n",
       " '__eq__',\n",
       " '__format__',\n",
       " '__ge__',\n",
       " '__getattribute__',\n",
       " '__getitem__',\n",
       " '__getnewargs__',\n",
       " '__gt__',\n",
       " '__hash__',\n",
       " '__init__',\n",
       " '__init_subclass__',\n",
       " '__iter__',\n",
       " '__le__',\n",
       " '__len__',\n",
       " '__lt__',\n",
       " '__mod__',\n",
       " '__mul__',\n",
       " '__ne__',\n",
       " '__new__',\n",
       " '__reduce__',\n",
       " '__reduce_ex__',\n",
       " '__repr__',\n",
       " '__rmod__',\n",
       " '__rmul__',\n",
       " '__setattr__',\n",
       " '__sizeof__',\n",
       " '__str__',\n",
       " '__subclasshook__',\n",
       " 'capitalize',\n",
       " 'casefold',\n",
       " 'center',\n",
       " 'count',\n",
       " 'encode',\n",
       " 'endswith',\n",
       " 'expandtabs',\n",
       " 'find',\n",
       " 'format',\n",
       " 'format_map',\n",
       " 'index',\n",
       " 'isalnum',\n",
       " 'isalpha',\n",
       " 'isascii',\n",
       " 'isdecimal',\n",
       " 'isdigit',\n",
       " 'isidentifier',\n",
       " 'islower',\n",
       " 'isnumeric',\n",
       " 'isprintable',\n",
       " 'isspace',\n",
       " 'istitle',\n",
       " 'isupper',\n",
       " 'join',\n",
       " 'ljust',\n",
       " 'lower',\n",
       " 'lstrip',\n",
       " 'maketrans',\n",
       " 'partition',\n",
       " 'removeprefix',\n",
       " 'removesuffix',\n",
       " 'replace',\n",
       " 'rfind',\n",
       " 'rindex',\n",
       " 'rjust',\n",
       " 'rpartition',\n",
       " 'rsplit',\n",
       " 'rstrip',\n",
       " 'split',\n",
       " 'splitlines',\n",
       " 'startswith',\n",
       " 'strip',\n",
       " 'swapcase',\n",
       " 'title',\n",
       " 'translate',\n",
       " 'upper',\n",
       " 'zfill']"
      ]
     },
     "execution_count": 72,
     "metadata": {},
     "output_type": "execute_result"
    }
   ],
   "source": [
    "name ='Ahmed'\n",
    "dir(name)"
   ]
  },
  {
   "cell_type": "markdown",
   "id": "253e0e74-52d4-493e-884c-819756762f20",
   "metadata": {},
   "source": [
    "# 2) if...else and if...elif...else statements"
   ]
  },
  {
   "cell_type": "code",
   "execution_count": 75,
   "id": "822482c7-21f2-447a-8ccf-ff94d489fdea",
   "metadata": {},
   "outputs": [
    {
     "name": "stdout",
     "output_type": "stream",
     "text": [
      "x is greater than 5\n"
     ]
    }
   ],
   "source": [
    "x = 10\n",
    "if x > 5:\n",
    "    print(\"x is greater than 5\")\n",
    "else:\n",
    "    print(\"x is not greater than 5\")"
   ]
  },
  {
   "cell_type": "code",
   "execution_count": 76,
   "id": "197a4a59-e569-44dd-957f-01d245bb60ef",
   "metadata": {},
   "outputs": [
    {
     "name": "stdout",
     "output_type": "stream",
     "text": [
      "Warm\n"
     ]
    }
   ],
   "source": [
    "temperature = 25\n",
    "if temperature < 0:\n",
    "    print(\"Freezing\")\n",
    "elif temperature >= 0 and temperature < 10:\n",
    "    print(\"Cold\")\n",
    "elif temperature >= 10 and temperature < 20:\n",
    "    print(\"Cool\")\n",
    "elif temperature >= 20 and temperature < 30:\n",
    "    print(\"Warm\")\n",
    "else:\n",
    "    print(\"Hot\")"
   ]
  },
  {
   "cell_type": "code",
   "execution_count": 77,
   "id": "dbcfcf2d-4c3c-48e3-bdb2-67d65960fdac",
   "metadata": {},
   "outputs": [
    {
     "name": "stdout",
     "output_type": "stream",
     "text": [
      "x is greater than 5 and even\n"
     ]
    }
   ],
   "source": [
    "x = 10\n",
    "if x > 5:\n",
    "    if x % 2 == 0:\n",
    "        print(\"x is greater than 5 and even\")\n",
    "    else:\n",
    "        print(\"x is greater than 5 but odd\")\n",
    "else:\n",
    "    print(\"x is not greater than 5\")"
   ]
  },
  {
   "cell_type": "code",
   "execution_count": 78,
   "id": "7e9f2959-80ca-4407-ac4f-f1919a3c8a6f",
   "metadata": {},
   "outputs": [
    {
     "name": "stdout",
     "output_type": "stream",
     "text": [
      "Even\n",
      "Adult\n"
     ]
    }
   ],
   "source": [
    "x = 10\n",
    "message = \"Even\" if x % 2 == 0 else \"Odd\"\n",
    "print(message)  \n",
    "\n",
    "age = 20\n",
    "status = \"Adult\" if age >= 18 else \"Minor\"\n",
    "print(status)  \n"
   ]
  },
  {
   "cell_type": "code",
   "execution_count": 83,
   "id": "4ba6240d-09db-4289-b35d-7c9753ba0b4b",
   "metadata": {},
   "outputs": [
    {
     "name": "stdout",
     "output_type": "stream",
     "text": [
      "Lowercase letter\n"
     ]
    }
   ],
   "source": [
    "#ascii code\n",
    "letter = 'b'\n",
    "if 'a' <= letter <= 'z':\n",
    "    print(\"Lowercase letter\")"
   ]
  },
  {
   "cell_type": "markdown",
   "id": "982378d7-071c-4da3-afa2-2cc36f738173",
   "metadata": {},
   "source": [
    "# 3) Lists"
   ]
  },
  {
   "cell_type": "code",
   "execution_count": null,
   "id": "65c698e3-9d02-4db8-97d9-e447910e8085",
   "metadata": {},
   "outputs": [],
   "source": [
    "# Data type------>****** presentation"
   ]
  },
  {
   "cell_type": "markdown",
   "id": "c381e4c6-2d4f-40da-a9af-f1fd91521284",
   "metadata": {},
   "source": [
    "## 3.1) Accessing Elements"
   ]
  },
  {
   "cell_type": "code",
   "execution_count": 88,
   "id": "e89b8c5b-c032-41cb-80bd-f7d04e089ec9",
   "metadata": {},
   "outputs": [
    {
     "name": "stdout",
     "output_type": "stream",
     "text": [
      "1\n",
      "5\n"
     ]
    }
   ],
   "source": [
    "my_list = [1, 2, 3, 4, 5]\n",
    "print(my_list[0])  # (accessing the first element)\n",
    "print(my_list[-1])  # (accessing the last element)"
   ]
  },
  {
   "cell_type": "code",
   "execution_count": 87,
   "id": "c9d45380-8c85-4595-bd27-6e6c4a86417d",
   "metadata": {},
   "outputs": [
    {
     "name": "stdout",
     "output_type": "stream",
     "text": [
      "[2, 3, 4]\n",
      "[1, 2, 3]\n",
      "[3, 4, 5]\n"
     ]
    }
   ],
   "source": [
    "print(my_list[1:4])  #  (slicing from index 1 to index 3)\n",
    "print(my_list[:3])  # (slicing from the beginning to index 2)\n",
    "print(my_list[2:])  # (slicing from index 2 to the end)"
   ]
  },
  {
   "cell_type": "code",
   "execution_count": 36,
   "id": "723d47e5-9ef3-42b4-8d41-8ee8b3624bd9",
   "metadata": {},
   "outputs": [
    {
     "name": "stdout",
     "output_type": "stream",
     "text": [
      "a\n",
      "[1, 2, 3]\n",
      "2\n",
      "6\n"
     ]
    }
   ],
   "source": [
    "mixed_list = [\"apple\", [1, 2, 3], (4, 5, 6)]\n",
    "\n",
    "print(mixed_list[0])\n",
    "print(mixed_list[0][0])  \n",
    "print(mixed_list[1])  \n",
    "print(mixed_list[1][1])  \n",
    "print(mixed_list[2][2])  "
   ]
  },
  {
   "cell_type": "markdown",
   "id": "c0cec4b4-ece6-4fd6-b53c-4143dc88b471",
   "metadata": {},
   "source": [
    "## 3.2) Modefing Elements"
   ]
  },
  {
   "cell_type": "code",
   "execution_count": 38,
   "id": "de788b9e-1fab-46bb-bf0d-0116fdff0e5c",
   "metadata": {},
   "outputs": [
    {
     "name": "stdout",
     "output_type": "stream",
     "text": [
      "['orange', [1, 2, 3], ('a', 'b', 'c'), 42, ['apple', 'banana']]\n",
      "['orange', [1, 2, 55], ('a', 'b', 'c'), 42, ['apple', 'banana']]\n"
     ]
    },
    {
     "ename": "TypeError",
     "evalue": "'tuple' object does not support item assignment",
     "output_type": "error",
     "traceback": [
      "\u001b[1;31m---------------------------------------------------------------------------\u001b[0m",
      "\u001b[1;31mTypeError\u001b[0m                                 Traceback (most recent call last)",
      "Input \u001b[1;32mIn [38]\u001b[0m, in \u001b[0;36m<cell line: 9>\u001b[1;34m()\u001b[0m\n\u001b[0;32m      6\u001b[0m \u001b[38;5;28mprint\u001b[39m(mixed) \n\u001b[0;32m      8\u001b[0m \u001b[38;5;66;03m#Tuple ??????????????????????? \u001b[39;00m\n\u001b[1;32m----> 9\u001b[0m \u001b[43mmixed\u001b[49m\u001b[43m[\u001b[49m\u001b[38;5;241;43m2\u001b[39;49m\u001b[43m]\u001b[49m\u001b[43m[\u001b[49m\u001b[38;5;241;43m1\u001b[39;49m\u001b[43m]\u001b[49m \u001b[38;5;241m=\u001b[39m \u001b[38;5;241m55\u001b[39m  \n\u001b[0;32m     10\u001b[0m \u001b[38;5;28mprint\u001b[39m(mixed)\n",
      "\u001b[1;31mTypeError\u001b[0m: 'tuple' object does not support item assignment"
     ]
    }
   ],
   "source": [
    "mixed = ['Hello', [1, 2, 3], ('a', 'b', 'c'), 42, ['apple', 'banana']]\n",
    "mixed[0] = \"orange\"  \n",
    "print(mixed) \n",
    "\n",
    "mixed[1][2] = 55  \n",
    "print(mixed) \n",
    "\n",
    "#Tuple ??????????????????????? \n",
    "mixed[2][1] = 55  \n",
    "print(mixed)\n"
   ]
  },
  {
   "cell_type": "code",
   "execution_count": 39,
   "id": "63931327-e158-4d22-a920-9d99787100cd",
   "metadata": {},
   "outputs": [
    {
     "name": "stdout",
     "output_type": "stream",
     "text": [
      "['orange', [1, 2, 55], 55, 42, ['apple', 'banana']]\n"
     ]
    }
   ],
   "source": [
    "mixed[2] = 55  \n",
    "print(mixed)"
   ]
  },
  {
   "cell_type": "code",
   "execution_count": 40,
   "id": "88a9b548-f060-46b6-bfcc-b528f9ba5720",
   "metadata": {},
   "outputs": [
    {
     "name": "stdout",
     "output_type": "stream",
     "text": [
      "['orange', [1, 2, 55], 55, 42, ['apple', 'banana'], 6]\n",
      "['orange', [1, 2, 55], 7, 55, 42, ['apple', 'banana'], 6]\n"
     ]
    }
   ],
   "source": [
    "mixed.append(6)  # Appends 6 to the end of the list\n",
    "print(mixed)  \n",
    "\n",
    "mixed.insert(2, 7)\n",
    "print(mixed)  "
   ]
  },
  {
   "cell_type": "code",
   "execution_count": 41,
   "id": "fe841da6-8fc1-4585-9a52-1c8b7af9dd57",
   "metadata": {},
   "outputs": [
    {
     "name": "stdout",
     "output_type": "stream",
     "text": [
      "['orange', [1, 2, 'carrot', 55], 7, 7, 55, 42, ['apple', 'banana'], 6, 6]\n",
      "['orange', [1, 2, 'carrot', 55], 7, 7, 55, 42, [1, 'apple', 'banana'], 6, 6]\n"
     ]
    }
   ],
   "source": [
    "mixed = ['orange', [1, 2, 55], 7, 7, 55, 42, ['apple', 'banana'], 6, 6]\n",
    "\n",
    "mixed[1].insert(2,'carrot')  \n",
    "print(mixed)\n",
    "\n",
    "mixed[6].insert(0,1)  \n",
    "print(mixed)"
   ]
  },
  {
   "cell_type": "code",
   "execution_count": 42,
   "id": "fe5721c2-47a0-4f4f-92cc-1d791b9c1f5e",
   "metadata": {},
   "outputs": [
    {
     "name": "stdout",
     "output_type": "stream",
     "text": [
      "['orange', [1, 2, 'carrot', 55], 7, 55, 42, [1, 'apple', 'banana'], 6, 6]\n",
      "['orange', [1, 2, 'carrot', 55], 7, 55, 42, [1, 'apple', 'banana'], 6]\n"
     ]
    }
   ],
   "source": [
    "mixed.remove(7)  \n",
    "print(mixed)  \n",
    "\n",
    "mixed.pop() \n",
    "print(mixed)  "
   ]
  },
  {
   "cell_type": "code",
   "execution_count": 120,
   "id": "855d9e93-c705-4d23-b96b-82186ec4976f",
   "metadata": {},
   "outputs": [
    {
     "name": "stdout",
     "output_type": "stream",
     "text": [
      "[1, 1, 2, 3, 3, 4, 5, 5, 5, 6, 9]\n",
      "['e', 'd', 'c', 'b', 'a']\n"
     ]
    }
   ],
   "source": [
    "numbers = [3, 1, 4, 1, 5, 9, 2, 6, 5, 3, 5]\n",
    "numbers.sort()\n",
    "print(numbers)  \n",
    "\n",
    "letters = ['a', 'b', 'c', 'd', 'e']\n",
    "letters.reverse()\n",
    "print(letters)  "
   ]
  },
  {
   "cell_type": "code",
   "execution_count": 18,
   "id": "d1bc7a52-7f5a-4f91-8f6e-27504e4aa738",
   "metadata": {},
   "outputs": [
    {
     "name": "stdout",
     "output_type": "stream",
     "text": [
      "['apple', 'banana', 'cherry', 'orange', 'grape']\n",
      "5\n"
     ]
    }
   ],
   "source": [
    "fruits = ['apple', 'banana', 'cherry']\n",
    "more_fruits = ['orange', 'grape']\n",
    "fruits.extend(more_fruits)\n",
    "print(fruits)  \n",
    "\n",
    "print(len(fruits))"
   ]
  },
  {
   "cell_type": "code",
   "execution_count": 19,
   "id": "e4e827a2-2323-4acd-83ac-a7aa9b5a6546",
   "metadata": {},
   "outputs": [],
   "source": [
    "del fruits"
   ]
  },
  {
   "cell_type": "markdown",
   "id": "f928e2d8-7c72-449b-b935-660f75e2ff3d",
   "metadata": {},
   "source": [
    "## Problem Statement"
   ]
  },
  {
   "cell_type": "code",
   "execution_count": null,
   "id": "fb0d8567-aa83-4430-870b-4165385e91cf",
   "metadata": {},
   "outputs": [],
   "source": [
    "\"\"\"\n",
    "A real estate company has a small list of properties, each represented as a dictionary. \n",
    "\n",
    "1) Check if a specific property is available for sale.\n",
    "2) Determine if a property falls within a given price range.\n",
    "3) Print details of a property based on specific criteria.\n",
    "\"\"\""
   ]
  },
  {
   "cell_type": "code",
   "execution_count": 43,
   "id": "a66dcf6c-1b12-4e01-b089-c99fc23c5fda",
   "metadata": {},
   "outputs": [
    {
     "name": "stdout",
     "output_type": "stream",
     "text": [
      "The property is not available for sale.\n",
      "__________________________________________________________________________________\n",
      "The property is within the specified price range.\n",
      "__________________________________________________________________________________\n",
      "Property details: Price: $450000, Location: Chicago, Bedrooms: 4, Status: available\n"
     ]
    }
   ],
   "source": [
    "properties = [\n",
    "    {'price': 300000, 'location': 'New York', 'bedrooms': 3, 'status': 'available'},\n",
    "    {'price': 250000, 'location': 'Los Angeles', 'bedrooms': 2, 'status': 'sold'},\n",
    "    {'price': 450000, 'location': 'Chicago', 'bedrooms': 4, 'status': 'available'}\n",
    "]\n",
    "\n",
    "# Property index we want to check\n",
    "property_index = 1\n",
    "\n",
    "# Check if the property at the specified index is available for sale\n",
    "if properties[property_index]['status'] == 'available':\n",
    "    print(\"The property is available for sale.\")\n",
    "else:\n",
    "    print(\"The property is not available for sale.\")\n",
    "\n",
    "print('__________________________________________________________________________________')\n",
    "# Define a price range\n",
    "min_price = 200000\n",
    "max_price = 400000\n",
    "\n",
    "# Check if the property falls within the specified price range\n",
    "if min_price <= properties[property_index]['price'] <= max_price:\n",
    "    print(\"The property is within the specified price range.\")\n",
    "else:\n",
    "    print(\"The property is not within the specified price range.\")\n",
    "\n",
    "print('__________________________________________________________________________________')\n",
    "\n",
    "# Criteria for printing details\n",
    "location_criteria = 'Chicago'\n",
    "bedrooms_criteria = 4\n",
    "\n",
    "# Check if the property meets the specified criteria\n",
    "if properties[2]['location'] == location_criteria and properties[2]['bedrooms'] == bedrooms_criteria:\n",
    "    print(f\"Property details: Price: ${properties[2]['price']}, Location: {properties[2]['location']}, Bedrooms: {properties[2]['bedrooms']}, Status: {properties[2]['status']}\")\n",
    "else:\n",
    "    print(\"The property does not meet the specified criteria.\")"
   ]
  },
  {
   "cell_type": "markdown",
   "id": "54f8634a-947b-4936-b0e2-ccd38ab6fa2f",
   "metadata": {},
   "source": [
    "## Problem Statement"
   ]
  },
  {
   "cell_type": "code",
   "execution_count": null,
   "id": "50559ee7-cebf-4697-85ad-a8d246719c54",
   "metadata": {},
   "outputs": [],
   "source": [
    "\"\"\"\n",
    "A dairy products factory categorizes its products into Milk, Cheese, and Yogurt. \n",
    "Each category has a list of specific products with their quantities in stock. We want to:\n",
    "\n",
    "1) Check if a specific product is in stock.\n",
    "2) Determine if the quantity of a product is below a certain threshold.\n",
    "3) Print details of a product if it meets specific criteria.\n",
    "\"\"\""
   ]
  },
  {
   "cell_type": "code",
   "execution_count": 44,
   "id": "2a1538ca-f9ef-4a0a-901e-65c0cd91630f",
   "metadata": {},
   "outputs": [
    {
     "name": "stdout",
     "output_type": "stream",
     "text": [
      "The product Skim Milk is in stock.\n",
      "______________________________________________________\n",
      "The product Skim Milk has sufficient stock.\n",
      "______________________________________________________\n",
      "Product details: Category: Yogurt, Name: Greek Yogurt, Quantity: 60\n"
     ]
    }
   ],
   "source": [
    "dairy_products = [\n",
    "    ['Milk', [['Whole Milk', 100], ['Skim Milk', 50], ['Soy Milk', 30]]],\n",
    "    ['Cheese', [['Cheddar', 40], ['Mozzarella', 20], ['Parmesan', 10]]],\n",
    "    ['Yogurt', [['Greek Yogurt', 60], ['Regular Yogurt', 25], ['Low-fat Yogurt', 15]]]\n",
    "]\n",
    "\n",
    "# Specific product to check\n",
    "category_index = 0  # 0 for Milk, 1 for Cheese, 2 for Yogurt\n",
    "product_index = 1   # Index of the specific product within the category\n",
    "\n",
    "# Check if the product is in stock\n",
    "if dairy_products[category_index][1][product_index][1] > 0:\n",
    "    print(f\"The product {dairy_products[category_index][1][product_index][0]} is in stock.\")\n",
    "else:\n",
    "    print(f\"The product {dairy_products[category_index][1][product_index][0]} is out of stock.\")\n",
    "\n",
    "print('______________________________________________________')\n",
    "\n",
    "# Define a threshold for low stock\n",
    "threshold = 20\n",
    "\n",
    "# Check if the quantity of the product is below the threshold\n",
    "if dairy_products[category_index][1][product_index][1] < threshold:\n",
    "    print(f\"The product {dairy_products[category_index][1][product_index][0]} has low stock.\")\n",
    "else:\n",
    "    print(f\"The product {dairy_products[category_index][1][product_index][0]} has sufficient stock.\")\n",
    "\n",
    "print('______________________________________________________')\n",
    "\n",
    "# Criteria for printing details\n",
    "specific_category = 'Yogurt'\n",
    "specific_product = 'Greek Yogurt'\n",
    "\n",
    "# Check if the specific product meets the criteria and print details\n",
    "if dairy_products[2][0] == specific_category and dairy_products[2][1][0][0] == specific_product:\n",
    "    print(f\"Product details: Category: {dairy_products[2][0]}, Name: {dairy_products[2][1][0][0]}, Quantity: {dairy_products[2][1][0][1]}\")\n",
    "else:\n",
    "    print(f\"The product {specific_product} in category {specific_category} does not meet the criteria.\")"
   ]
  },
  {
   "cell_type": "markdown",
   "id": "b88eee0c-95bf-4502-9c9c-3a1501a53b0b",
   "metadata": {},
   "source": [
    "# IPython"
   ]
  },
  {
   "cell_type": "code",
   "execution_count": null,
   "id": "60dc3020-4fe9-4972-b119-eb0203119ce0",
   "metadata": {},
   "outputs": [],
   "source": [
    "ipython\n",
    "%ls --> source file dir\n",
    "%lsmagic --> all magic function    \n",
    "%timeit print('Hello') --> time to execute this line\n",
    "%pycat Python Day_01.ipynb --> to return file content , R (to continue)\n",
    "--Ctrl + D --> exit\n",
    "\n",
    "\n",
    "External library: https://pypi.org/\n",
    "pip list\n",
    "pip show pandas"
   ]
  }
 ],
 "metadata": {
  "kernelspec": {
   "display_name": "Python 3 (ipykernel)",
   "language": "python",
   "name": "python3"
  },
  "language_info": {
   "codemirror_mode": {
    "name": "ipython",
    "version": 3
   },
   "file_extension": ".py",
   "mimetype": "text/x-python",
   "name": "python",
   "nbconvert_exporter": "python",
   "pygments_lexer": "ipython3",
   "version": "3.12.2"
  }
 },
 "nbformat": 4,
 "nbformat_minor": 5
}
